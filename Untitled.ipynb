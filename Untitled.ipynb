{
 "cells": [
  {
   "cell_type": "markdown",
   "metadata": {
    "id": "QfQ9QvIwkH5U"
   },
   "source": [
    "# IA Project - Face Recognition with Dynamic Triplet Loss"
   ]
  },
  {
   "cell_type": "markdown",
   "metadata": {
    "id": "SNPVWoKykH5V"
   },
   "source": [
    "References: https://openaccess.thecvf.com/content_ICCV_2019/papers/Zhang_Learning_Local_Descriptors_With_a_CDF-Based_Dynamic_Soft_Margin_ICCV_2019_paper.pdf\n",
    "\n",
    "Dataset: http://vis-www.cs.umass.edu/lfw/#download"
   ]
  },
  {
   "cell_type": "code",
   "execution_count": 1,
   "metadata": {
    "id": "Wht1Y6FEkH5W"
   },
   "outputs": [],
   "source": [
    "import torch\n",
    "from matplotlib import pyplot as plt\n",
    "from torchvision import datasets\n",
    "import torchvision.transforms.functional as TF\n",
    "import torchvision.transforms as T\n",
    "import os"
   ]
  },
  {
   "cell_type": "code",
   "execution_count": 2,
   "metadata": {
    "colab": {
     "base_uri": "https://localhost:8080/",
     "height": 34
    },
    "id": "uyN1fuC_kH5Z",
    "outputId": "2178c9fa-f6c0-4247-fe98-20418a5805ac"
   },
   "outputs": [
    {
     "name": "stdout",
     "output_type": "stream",
     "text": [
      "cpu\n"
     ]
    }
   ],
   "source": [
    "dev = torch.device(\"cuda\" if torch.cuda.is_available() else \"cpu\")\n",
    "print(dev)"
   ]
  },
  {
   "cell_type": "code",
   "execution_count": 3,
   "metadata": {
    "id": "Ndhx62qLkH5c"
   },
   "outputs": [],
   "source": [
    "norm_mean = (0.485, 0.456, 0.406)\n",
    "norm_std = (0.229, 0.224, 0.225)\n",
    "\n",
    "transform = T.Compose([\n",
    "    T.Resize(250),  # make 250x250\n",
    "    T.CenterCrop(150),   # then take 150x150 center crop\n",
    "    T.ToTensor(),\n",
    "    T.Normalize(norm_mean, norm_std),\n",
    "])"
   ]
  },
  {
   "cell_type": "code",
   "execution_count": 22,
   "metadata": {
    "id": "oEbUZchvkNi2"
   },
   "outputs": [
    {
     "name": "stdout",
     "output_type": "stream",
     "text": [
      "/mnt/c/Users/claud/Desktop/progetti/Face-Recognition-with-Dynamic-Triplet-Loss\n"
     ]
    }
   ],
   "source": [
    "#path\n",
    "train_path= os.getcwd() + \"//data//train_pairs.txt\""
   ]
  },
  {
   "cell_type": "code",
   "execution_count": 32,
   "metadata": {
    "colab": {
     "base_uri": "https://localhost:8080/",
     "height": 180
    },
    "id": "1y4IeAv6kNck",
    "outputId": "ee516eb2-d6e5-464a-d0a3-bedea7cf8326"
   },
   "outputs": [
    {
     "data": {
      "text/plain": [
       "2201"
      ]
     },
     "execution_count": 32,
     "metadata": {},
     "output_type": "execute_result"
    }
   ],
   "source": [
    "with open(train_path, 'r') as file:\n",
    "  train_file = file.read()\n",
    "\n",
    "train_list = train_file.split('\\n')"
   ]
  },
  {
   "cell_type": "code",
   "execution_count": null,
   "metadata": {
    "id": "nKZel9ffkNWz"
   },
   "outputs": [],
   "source": []
  }
 ],
 "metadata": {
  "colab": {
   "collapsed_sections": [],
   "name": "Untitled.ipynb",
   "provenance": []
  },
  "kernelspec": {
   "display_name": "Python 3",
   "language": "python",
   "name": "python3"
  },
  "language_info": {
   "codemirror_mode": {
    "name": "ipython",
    "version": 3
   },
   "file_extension": ".py",
   "mimetype": "text/x-python",
   "name": "python",
   "nbconvert_exporter": "python",
   "pygments_lexer": "ipython3",
   "version": "3.8.3"
  }
 },
 "nbformat": 4,
 "nbformat_minor": 1
}
