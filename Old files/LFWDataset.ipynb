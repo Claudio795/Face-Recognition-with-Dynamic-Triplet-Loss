{
  "nbformat": 4,
  "nbformat_minor": 0,
  "metadata": {
    "accelerator": "GPU",
    "colab": {
      "name": "LFWDataset.ipynb",
      "provenance": [],
      "collapsed_sections": []
    },
    "kernelspec": {
      "display_name": "Python 3",
      "name": "python3"
    }
  },
  "cells": [
    {
      "cell_type": "markdown",
      "metadata": {
        "id": "vDqfRldZSDds"
      },
      "source": [
        "# IA Project - Face Recognition with Dynamic Triplet Loss"
      ]
    },
    {
      "cell_type": "markdown",
      "metadata": {
        "id": "74ceGeGASHIC"
      },
      "source": [
        "References: https://openaccess.thecvf.com/content_ICCV_2019/papers/Zhang_Learning_Local_Descriptors_With_a_CDF-Based_Dynamic_Soft_Margin_ICCV_2019_paper.pdf\n",
        "\n",
        "Dataset: http://vis-www.cs.umass.edu/lfw/#download"
      ]
    },
    {
      "cell_type": "code",
      "metadata": {
        "id": "dhRpOYJZR_ne"
      },
      "source": [
        "import torch\n",
        "from matplotlib import pyplot as plt\n",
        "from torchvision import datasets\n",
        "import torchvision.transforms.functional as TF\n",
        "import torchvision.transforms as T\n",
        "import numpy as np\n",
        "import collections\n",
        "import PIL.Image\n",
        "from torch.utils.data import DataLoader, Subset\n",
        "import os\n",
        "import random\n",
        "from google.colab import drive\n",
        "import torch.nn as nn\n",
        "import torch.nn.functional as F\n",
        "import torch.optim as optim"
      ],
      "execution_count": 1,
      "outputs": []
    },
    {
      "cell_type": "markdown",
      "metadata": {
        "id": "DkFSjhnQSLt7"
      },
      "source": [
        "### Pre-precessing data"
      ]
    },
    {
      "cell_type": "code",
      "metadata": {
        "id": "PKIejUZSSJq8",
        "outputId": "11683394-4ecf-4041-81b0-8876bb75b8ce",
        "colab": {
          "base_uri": "https://localhost:8080/",
          "height": 54
        }
      },
      "source": [
        "drive.mount(\"/content/drive\")\n",
        "root_dir = \"/content/drive/My Drive/IA_Project\""
      ],
      "execution_count": 2,
      "outputs": [
        {
          "output_type": "stream",
          "text": [
            "Drive already mounted at /content/drive; to attempt to forcibly remount, call drive.mount(\"/content/drive\", force_remount=True).\n"
          ],
          "name": "stdout"
        }
      ]
    },
    {
      "cell_type": "code",
      "metadata": {
        "id": "mdSQ4aNRSNyr",
        "outputId": "7ae288c5-57cf-44ed-a0c4-3957376b2d6e",
        "colab": {
          "base_uri": "https://localhost:8080/",
          "height": 52
        }
      },
      "source": [
        "'''\n",
        "#path\n",
        "data_path = \"./LFW_DIR\"\n",
        "train_path = \"./data/train_pairs.txt\"\n",
        "test_path = \"./data/test_pairs.txt\"\n",
        "people_path = \"./data/people.txt\"\n",
        "'''"
      ],
      "execution_count": 3,
      "outputs": [
        {
          "output_type": "execute_result",
          "data": {
            "application/vnd.google.colaboratory.intrinsic+json": {
              "type": "string"
            },
            "text/plain": [
              "'\\n#path\\ndata_path = \"./LFW_DIR\"\\ntrain_path = \"./data/train_pairs.txt\"\\ntest_path = \"./data/test_pairs.txt\"\\npeople_path = \"./data/people.txt\"\\n'"
            ]
          },
          "metadata": {
            "tags": []
          },
          "execution_count": 3
        }
      ]
    },
    {
      "cell_type": "code",
      "metadata": {
        "id": "Ueo9h8N2EQfh"
      },
      "source": [
        "data_path = os.path.join(root_dir, \"LFW_DIR\")\n",
        "people_path = os.path.join(root_dir, \"data/people.txt\")"
      ],
      "execution_count": 4,
      "outputs": []
    },
    {
      "cell_type": "code",
      "metadata": {
        "id": "QxZ4s1hkOYCa"
      },
      "source": [
        "img_size = 224\n",
        "crop_size = 64\n",
        "batch_size = 32"
      ],
      "execution_count": 5,
      "outputs": []
    },
    {
      "cell_type": "code",
      "metadata": {
        "id": "ywc2QkEkvM2c"
      },
      "source": [
        "norm_mean = (0.485, 0.456, 0.406)\n",
        "norm_std = (0.229, 0.224, 0.225)\n",
        "\n",
        "test_transform = T.Compose([\n",
        "    T.Resize(img_size),  # make 250x250\n",
        "    T.CenterCrop(crop_size),   # then take 150x150 center crop\n",
        "    T.ToTensor(),\n",
        "    T.Normalize(norm_mean, norm_std),\n",
        "])\n",
        "\n",
        "train_transform = T.Compose([\n",
        "    T.Resize(img_size),\n",
        "    T.RandomCrop(crop_size),\n",
        "    # T.RandomHorizontalFlip(),\n",
        "    T.ToTensor(),\n",
        "    T.Normalize(norm_mean, norm_std),\n",
        "])"
      ],
      "execution_count": 6,
      "outputs": []
    },
    {
      "cell_type": "code",
      "metadata": {
        "id": "73VKzt_sSO87"
      },
      "source": [
        "def readPeople(people_path):\n",
        "  people_list = []\n",
        "  with open(people_path, 'r') as file:\n",
        "    for line in file.readlines():\n",
        "      person = line.strip().split()\n",
        "      people_list.append(person)\n",
        "  return people_list"
      ],
      "execution_count": 7,
      "outputs": []
    },
    {
      "cell_type": "code",
      "metadata": {
        "id": "QPQxtfRlTTgd"
      },
      "source": [
        "people_list= readPeople(people_path)\n",
        "# people_list"
      ],
      "execution_count": 8,
      "outputs": []
    },
    {
      "cell_type": "code",
      "metadata": {
        "id": "hgSGZx3JadkX"
      },
      "source": [
        "# cambiare i nomi con le labels\n",
        "def getLabeledImages(data_path, people_list):\n",
        "  labeledImages = {}\n",
        "  label = 0\n",
        "  \n",
        "\n",
        "  for person in people_list:\n",
        "    if int(person[1]) > 1:    # se ho più di una immagine per persona\n",
        "      for img_id in range(1, int(person[1])+1):\n",
        "        path = os.path.join(data_path, person[0], person[0] + '_' + '%04d' % img_id + '.jpg')\n",
        "        labeledImages[path] = label\n",
        "      label += 1\n",
        "\n",
        "  return labeledImages"
      ],
      "execution_count": 9,
      "outputs": []
    },
    {
      "cell_type": "code",
      "metadata": {
        "id": "WxHovEu-U9rt",
        "outputId": "cbbfb5cd-0417-4bb5-e601-93d5cf3df54d",
        "colab": {
          "base_uri": "https://localhost:8080/",
          "height": 51
        }
      },
      "source": [
        "labeledImages = getLabeledImages(data_path, people_list)\n",
        "print(len(labeledImages.keys()))    # dizionario 'img_path: label'\n",
        "print(len(set(labeledImages.values())))"
      ],
      "execution_count": 10,
      "outputs": [
        {
          "output_type": "stream",
          "text": [
            "9164\n",
            "1680\n"
          ],
          "name": "stdout"
        }
      ]
    },
    {
      "cell_type": "code",
      "metadata": {
        "id": "2smOFZf_IFLQ"
      },
      "source": [
        "# shuffle labeledImages\n",
        "list_item = list(labeledImages.items())\n",
        "#random.shuffle(list_item)\n",
        "labeledImages_rand = dict(list_item)\n",
        "\n",
        "# Dataset fraction\n",
        "test_frac = 0.1\n",
        "val_frac = 0.1\n",
        "\n",
        "# data len\n",
        "num_data = len(labeledImages_rand)\n",
        "num_test = int(num_data*test_frac)\n",
        "num_val = int(num_data*val_frac)\n",
        "\n",
        "# split dict in train, test, val\n",
        "num_data = num_data - num_test\n",
        "labeled_test = dict(list(labeledImages_rand.items())[num_data:]) \n",
        "labeledImages_rand = dict(list(labeledImages_rand.items())[:num_data])\n",
        "\n",
        "num_data = num_data - num_val\n",
        "labeled_val = dict(list(labeledImages_rand.items())[num_data:]) \n",
        "labeled_train = dict(list(labeledImages_rand.items())[:num_data])"
      ],
      "execution_count": 11,
      "outputs": []
    },
    {
      "cell_type": "code",
      "metadata": {
        "id": "aJCAWdNnM9yr",
        "outputId": "ad7eabdf-feab-43db-912c-1356c94ea2f9",
        "colab": {
          "base_uri": "https://localhost:8080/",
          "height": 34
        }
      },
      "source": [
        "print(len(labeled_train), len(labeled_test), len(labeled_val))"
      ],
      "execution_count": 12,
      "outputs": [
        {
          "output_type": "stream",
          "text": [
            "7332 916 916\n"
          ],
          "name": "stdout"
        }
      ]
    },
    {
      "cell_type": "code",
      "metadata": {
        "id": "GfNSISPWOHBe"
      },
      "source": [
        "'''\n",
        "def getTriplet(index, labeledImages):\n",
        "  images_path = list(labeledImages.keys())\n",
        "  anchor_path = images_path[index]\n",
        "  anchor_label = labeledImages[anchor_path]\n",
        "  anchor_img = PIL.Image.open(anchor_path)\n",
        "\n",
        "  positive_list = [item for item in images_path \n",
        "                   if labeledImages[item] == anchor_label and item != anchor_path]\n",
        "  positive_path = random.choice(positive_list)\n",
        "\n",
        "  negative_list = [item for item in images_path if item not in positive_list]\n",
        "  negative_path = random.choice(negative_list)\n",
        "\n",
        "  positive_img = PIL.Image.open(positive_path)\n",
        "  negative_img = PIL.Image.open(negative_path)\n",
        "\n",
        "  return anchor_img, positive_img, negative_img, anchor_label\n",
        "  '''"
      ],
      "execution_count": null,
      "outputs": []
    },
    {
      "cell_type": "code",
      "metadata": {
        "id": "6JIPlIw7FfBg"
      },
      "source": [
        "class LFWDataset(torch.utils.data.Dataset):\n",
        "\n",
        "  def __init__(self, labeledImages, train=True, transform=None):\n",
        "    self.transform = transform\n",
        "    self.labeledImages = labeledImages\n",
        "    self.images_path = list(self.labeledImages.keys())\n",
        "    self.train = train\n",
        "\n",
        "  def __len__(self):\n",
        "    return len(self.images_path)\n",
        "\n",
        "  def __getitem__(self, index):\n",
        "    anchor_path = self.images_path[index]\n",
        "    anchor_label = self.labeledImages[anchor_path]\n",
        "    anchor_img = PIL.Image.open(anchor_path)\n",
        "\n",
        "    if self.train:\n",
        "      # get positive image path\n",
        "      positive_list = [item for item in self.images_path \n",
        "                        if self.labeledImages[item] == anchor_label and item != anchor_path]\n",
        "      positive_path = random.choice(positive_list)\n",
        "\n",
        "      # get negative image path\n",
        "      negative_list = [item for item in self.labeledImages.keys() \n",
        "                        if item not in positive_list]\n",
        "      negative_path = random.choice(negative_list)\n",
        "\n",
        "      # get images from paths\n",
        "      positive_img = PIL.Image.open(positive_path)\n",
        "      negative_img = PIL.Image.open(negative_path)\n",
        "\n",
        "    # transform images\n",
        "      if self.transform:\n",
        "        anchor_img = self.transform(anchor_img)\n",
        "        positive_img = self.transform(positive_img)\n",
        "        negative_img = self.transform(negative_img)\n",
        "\n",
        "      return anchor_img, positive_img, negative_img, anchor_label\n",
        "\n",
        "    else:\n",
        "      if self.transform:\n",
        "        anchor_img = self.transform(anchor_img)\n",
        "      return anchor_img, anchor_label"
      ],
      "execution_count": 13,
      "outputs": []
    },
    {
      "cell_type": "code",
      "metadata": {
        "id": "PRDiltBqf_Zj"
      },
      "source": [
        "train_dataset = LFWDataset(labeled_train, train=True, transform=train_transform)\n",
        "test_dataset = LFWDataset(labeled_test, train=False, transform=test_transform)\n",
        "val_dataset = LFWDataset(labeled_val, train=False, transform=test_transform)"
      ],
      "execution_count": 14,
      "outputs": []
    },
    {
      "cell_type": "code",
      "metadata": {
        "id": "qX1XMKn-HaUH",
        "outputId": "09a53d7d-64ae-472f-831e-6b7ea51d4489",
        "colab": {
          "base_uri": "https://localhost:8080/",
          "height": 68
        }
      },
      "source": [
        "num_train = len(train_dataset)\n",
        "num_test = len(test_dataset)\n",
        "num_val = len(val_dataset)\n",
        "\n",
        "print(f\"Num. training samples: {num_train}\")\n",
        "print(f\"Num. test samples: {num_test}\")\n",
        "print(f\"Num. val samples: {num_val}\")"
      ],
      "execution_count": 16,
      "outputs": [
        {
          "output_type": "stream",
          "text": [
            "Num. training samples: 7332\n",
            "Num. test samples: 916\n",
            "Num. val samples: 916\n"
          ],
          "name": "stdout"
        }
      ]
    },
    {
      "cell_type": "code",
      "metadata": {
        "id": "HpX2l2-cGugC"
      },
      "source": [
        "# Define loaders\n",
        "train_loader = DataLoader(train_dataset, batch_size=batch_size, num_workers=4, shuffle=True)\n",
        "val_loader   = DataLoader(val_dataset,   batch_size=batch_size, num_workers=4, shuffle=False)\n",
        "test_loader  = DataLoader(test_dataset,  batch_size=batch_size, num_workers=4, shuffle=False)"
      ],
      "execution_count": 17,
      "outputs": []
    },
    {
      "cell_type": "code",
      "metadata": {
        "id": "y02ZlSDbG6ur"
      },
      "source": [
        "# Define dictionary of loaders\n",
        "loaders = {\"train\": train_loader,\n",
        "           \"val\": val_loader,\n",
        "           \"test\": test_loader}"
      ],
      "execution_count": 18,
      "outputs": []
    },
    {
      "cell_type": "markdown",
      "metadata": {
        "id": "5az1HtKhHAXJ"
      },
      "source": [
        "### Dynamic Triplet Loss implementation"
      ]
    },
    {
      "cell_type": "code",
      "metadata": {
        "id": "9-qZOctTPK-U"
      },
      "source": [
        "def pairwise_dist(x, y = None):\n",
        "  x_norm = (x**2).sum(1).view(-1, 1)\n",
        "  if y is not None:\n",
        "    y_norm = (y**2).sum(1).view(1, -1)\n",
        "  else:\n",
        "    y = x\n",
        "    y_norm = x_norm.view(1, -1)\n",
        "\n",
        "  dist = x_norm + y_norm - 2.0 * torch.mm(x, torch.transpose(y, 0, 1))\n",
        "  return dist"
      ],
      "execution_count": 19,
      "outputs": []
    },
    {
      "cell_type": "code",
      "metadata": {
        "id": "L_u9gNzvG8bu"
      },
      "source": [
        "class TripletLoss(nn.Module):\n",
        "  def __init__(self, margin = 0.2):\n",
        "    super(TripletLoss, self).__init__()\n",
        "    self.margin = margin\n",
        "\n",
        "  def forward(self, anchor, positive = None, negative = None):\n",
        "    margin = self.margin\n",
        "    pos_dist = pairwise_dist(anchor, positive)\n",
        "    # print(pos_dist, pos_dist.shape)\n",
        "    neg_dist = pairwise_dist(anchor, negative)\n",
        "    # print(neg_dist)\n",
        "    loss = torch.relu(pos_dist - neg_dist + margin)\n",
        "    return loss.mean()"
      ],
      "execution_count": 20,
      "outputs": []
    },
    {
      "cell_type": "markdown",
      "metadata": {
        "id": "N5O85S5HHQ0q"
      },
      "source": [
        "### CNN Model"
      ]
    },
    {
      "cell_type": "code",
      "metadata": {
        "id": "rStJHLI-jPmk",
        "outputId": "7fa34cfa-bd32-49d7-a069-89b9d671cabe",
        "colab": {
          "base_uri": "https://localhost:8080/",
          "height": 34
        }
      },
      "source": [
        "len(set(labeledImages.values()))"
      ],
      "execution_count": 21,
      "outputs": [
        {
          "output_type": "execute_result",
          "data": {
            "text/plain": [
              "1680"
            ]
          },
          "metadata": {
            "tags": []
          },
          "execution_count": 21
        }
      ]
    },
    {
      "cell_type": "code",
      "metadata": {
        "id": "d4pIACoM8nGj"
      },
      "source": [
        "class CNN(nn.Module):\n",
        "    def __init__(self):\n",
        "        super().__init__()\n",
        "        self.conv_layers = nn.Sequential(\n",
        "            nn.Conv2d(3, 64, kernel_size=11, padding=2, stride=4),\n",
        "            nn.PReLU(),\n",
        "            nn.MaxPool2d(kernel_size=3, stride=2),\n",
        "            nn.BatchNorm2d(64),\n",
        "            # nn.Dropout(0.3),\n",
        "\n",
        "            nn.Conv2d(64, 224, kernel_size=5, padding=2, stride=1),\n",
        "            nn.PReLU(),\n",
        "            nn.MaxPool2d(kernel_size=3, stride=2),\n",
        "            nn.BatchNorm2d(224),\n",
        "            # nn.Dropout(0.3)\n",
        "          \n",
        "            nn.Conv2d(224, 224, kernel_size=3, padding=1, stride=1),\n",
        "            nn.PReLU(),\n",
        "            #nn.MaxPool2d(kernel_size=4, stride=2),\n",
        "            nn.BatchNorm2d(224),\n",
        "            # nn.Dropout(0.3)\n",
        "\n",
        "            nn.Conv2d(224, 512, kernel_size=3, padding=1, stride=1),\n",
        "            nn.PReLU(),\n",
        "            #nn.MaxPool2d(kernel_size=4, stride=2),\n",
        "            nn.BatchNorm2d(512),\n",
        "            # nn.Dropout(0.3)\n",
        "        )\n",
        "        \n",
        "        self.fc_layers = nn.Sequential(\n",
        "            nn.Linear(4608, 2304),\n",
        "            nn.PReLU(),\n",
        "            nn.Linear(2304, 32)\n",
        "        )\n",
        "        \n",
        "    def forward(self, x):\n",
        "        x = self.conv_layers(x)\n",
        "        x = x.view(x.size(0), -1)\n",
        "        x = self.fc_layers(x)\n",
        "        return x"
      ],
      "execution_count": 22,
      "outputs": []
    },
    {
      "cell_type": "code",
      "metadata": {
        "id": "83LSk-JGgj35",
        "outputId": "d1a5e4c9-d276-4656-b20d-99e567d838f6",
        "colab": {
          "base_uri": "https://localhost:8080/",
          "height": 69
        }
      },
      "source": [
        "'''\n",
        "        self.fc_layers = nn.Sequential(\n",
        "            nn.Linear(4608, 2304),\n",
        "            nn.PReLU(),\n",
        "            nn.Linear(2304, 32)\n",
        "        )\n",
        "        \n",
        "    def forward(self, x):\n",
        "        x = self.conv_layers(x)\n",
        "        x = x.view(x.size(0), -1)\n",
        "        x = self.fc_layers(x)\n",
        "        return x\n",
        "'''"
      ],
      "execution_count": 23,
      "outputs": [
        {
          "output_type": "execute_result",
          "data": {
            "application/vnd.google.colaboratory.intrinsic+json": {
              "type": "string"
            },
            "text/plain": [
              "'\\n        self.fc_layers = nn.Sequential(\\n            nn.Linear(4608, 2304),\\n            nn.PReLU(),\\n            nn.Linear(2304, 32)\\n        )\\n        \\n    def forward(self, x):\\n        x = self.conv_layers(x)\\n        x = x.view(x.size(0), -1)\\n        x = self.fc_layers(x)\\n        return x\\n'"
            ]
          },
          "metadata": {
            "tags": []
          },
          "execution_count": 23
        }
      ]
    },
    {
      "cell_type": "code",
      "metadata": {
        "id": "xFgIeF3iM-Fj",
        "outputId": "61caf545-bb92-4f2d-b25e-49de37cc3d3f",
        "colab": {
          "base_uri": "https://localhost:8080/",
          "height": 69
        }
      },
      "source": [
        "'''\n",
        "    # Forward\n",
        "    def forward(self, x):\n",
        "      return self.conv_layers(x)\n",
        "    \n",
        "# Create the model\n",
        "model = CNN()\n",
        "# Get input\n",
        "test_x = train_dataset[0][0].unsqueeze(0)\n",
        "# Try forward\n",
        "out_size = model(test_x).size()\n",
        "print(f\"Out feature maps: {out_size} => out features: {out_size[1]*out_size[2]*out_size[3]}\")\n",
        "'''"
      ],
      "execution_count": 24,
      "outputs": [
        {
          "output_type": "execute_result",
          "data": {
            "application/vnd.google.colaboratory.intrinsic+json": {
              "type": "string"
            },
            "text/plain": [
              "'\\n    # Forward\\n    def forward(self, x):\\n      return self.conv_layers(x)\\n    \\n# Create the model\\nmodel = CNN()\\n# Get input\\ntest_x = train_dataset[0][0].unsqueeze(0)\\n# Try forward\\nout_size = model(test_x).size()\\nprint(f\"Out feature maps: {out_size} => out features: {out_size[1]*out_size[2]*out_size[3]}\")\\n'"
            ]
          },
          "metadata": {
            "tags": []
          },
          "execution_count": 24
        }
      ]
    },
    {
      "cell_type": "markdown",
      "metadata": {
        "id": "D3KzLadIApu8"
      },
      "source": [
        "### Training Loop\n"
      ]
    },
    {
      "cell_type": "code",
      "metadata": {
        "id": "FbivEGlmGzIk",
        "outputId": "004123fa-4c05-4aa6-ed00-e6bfe8414ef4",
        "colab": {
          "base_uri": "https://localhost:8080/",
          "height": 34
        }
      },
      "source": [
        "dev = torch.device(\"cuda\" if torch.cuda.is_available() else \"cpu\")\n",
        "print(dev)"
      ],
      "execution_count": 25,
      "outputs": [
        {
          "output_type": "stream",
          "text": [
            "cuda\n"
          ],
          "name": "stdout"
        }
      ]
    },
    {
      "cell_type": "code",
      "metadata": {
        "id": "B-LIlB5-37Jd"
      },
      "source": [
        "def train(epochs, device, lr = 0.001):\n",
        "\n",
        "  model = CNN()\n",
        "  model.to(dev)\n",
        "  print(model)\n",
        "  optimizer = optim.Adam(model.parameters(), lr=lr)\n",
        "\n",
        "  history_loss = {\"train\": [], \"val\": [], \"test\": []}\n",
        "  history_accuracy = {\"train\": [], \"val\": [], \"test\": []}\n",
        "\n",
        "  try:\n",
        " \n",
        "    for epoch in range(epochs):\n",
        "      sum_loss = {\"train\": 0, \"val\": 0, \"test\": 0}\n",
        "      sum_accuracy = {\"train\": 0, \"val\": 0, \"test\": 0}\n",
        "      for split in [\"train\", \"val\", \"test\"]:\n",
        "        torch.cuda.empty_cache()\n",
        "        if split == \"train\":\n",
        "          for step,(anchor_img, positive_img, negative_img, anchor_label) in enumerate(loaders[split]):\n",
        "\n",
        "            # Move to CUDA\n",
        "            anchor_img = anchor_img.to(device)\n",
        "            positive_img = positive_img.to(device)\n",
        "            negative_img = negative_img.to(device)\n",
        "            anchor_label = anchor_label.to(device)\n",
        "\n",
        "            # Reset gradients\n",
        "            optimizer.zero_grad()\n",
        "            # Compute output\n",
        "            anchor_out = model(anchor_img)\n",
        "            positive_out = model(positive_img)\n",
        "            negative_out = model(negative_img)\n",
        "\n",
        "            loss = TripletLoss()(anchor_out, positive_out, negative_out)\n",
        "\n",
        "            # Update loss\n",
        "            sum_loss[split] += loss\n",
        "\n",
        "            # Check parameter update\n",
        "            loss.backward()\n",
        "            optimizer.step()\n",
        "\n",
        "            _,pred_labels = anchor_out.max(1)\n",
        "            batch_accuracy = (pred_labels == anchor_label).sum().item()/anchor_img.size(0)\n",
        "            sum_accuracy[split] += batch_accuracy\n",
        "        \n",
        "\n",
        "\n",
        "      # Compute epoch loss\n",
        "      epoch_loss = {split: sum_loss[split]/len(loaders[split]) for split in [\"train\", \"val\", \"test\"]}\n",
        "      epoch_accuracy = {split: sum_accuracy[split]/len(loaders[split]) for split in [\"train\", \"val\", \"test\"]}\n",
        "      # Update history\n",
        "      for split in [\"train\", \"val\", \"test\"]:\n",
        "        history_loss[split].append(epoch_loss[split])\n",
        "        history_accuracy[split].append(epoch_accuracy[split])\n",
        "      \n",
        "      # Print info\n",
        "      print(f\"Epoch {epoch+1}:\",\n",
        "            f\"TrL={epoch_loss['train']:.4f},\",\n",
        "            f\"TrA={epoch_accuracy['train']:.4f},\",\n",
        "            f\"VL={epoch_loss['val']:.4f},\",\n",
        "            f\"VA={epoch_accuracy['val']:.4f},\",\n",
        "            f\"TeL={epoch_loss['test']:.4f},\",\n",
        "            f\"TeA={epoch_accuracy['test']:.4f},\")\n",
        "  except KeyboardInterrupt:\n",
        "      print(\"Interrupted\")\n",
        "  finally:\n",
        "      # Plot loss\n",
        "      plt.title(\"Loss\")\n",
        "      for split in [\"train\", \"val\", \"test\"]:\n",
        "        plt.plot(history_loss[split], label=split)\n",
        "      plt.legend()\n",
        "      plt.show()\n",
        "      # Plot accuracy\n",
        "      plt.title(\"Accuracy\")\n",
        "      for split in [\"train\", \"val\", \"test\"]:\n",
        "        plt.plot(history_accuracy[split], label=split)\n",
        "      plt.legend()\n",
        "      plt.show()"
      ],
      "execution_count": 33,
      "outputs": []
    },
    {
      "cell_type": "code",
      "metadata": {
        "id": "W9vF8uaEtl4h"
      },
      "source": [
        "else:\n",
        "          for step,(anchor_img, anchor_label) in enumerate(loaders[split]):\n",
        "            # Move to CUDA\n",
        "            anchor_img = anchor_img.to(device)\n",
        "            # Reset gradients\n",
        "            optimizer.zero_grad()\n",
        "            # Compute output\n",
        "            anchor_out = model(anchor_img)\n",
        "\n",
        "            loss = TripletLoss()(anchor_out)\n",
        "            # print(f\"{split} loss: {loss}\")\n",
        "\n",
        "            # Update loss\n",
        "            sum_loss[split] += loss"
      ],
      "execution_count": null,
      "outputs": []
    },
    {
      "cell_type": "code",
      "metadata": {
        "id": "wVA1Be_TBx5u",
        "outputId": "f05e1d60-c684-4da8-ad1b-92819a0af70d",
        "colab": {
          "base_uri": "https://localhost:8080/",
          "height": 1000
        }
      },
      "source": [
        "train(25, dev, 0.001)"
      ],
      "execution_count": 34,
      "outputs": [
        {
          "output_type": "stream",
          "text": [
            "CNN(\n",
            "  (conv_layers): Sequential(\n",
            "    (0): Conv2d(3, 64, kernel_size=(11, 11), stride=(4, 4), padding=(2, 2))\n",
            "    (1): PReLU(num_parameters=1)\n",
            "    (2): MaxPool2d(kernel_size=3, stride=2, padding=0, dilation=1, ceil_mode=False)\n",
            "    (3): BatchNorm2d(64, eps=1e-05, momentum=0.1, affine=True, track_running_stats=True)\n",
            "    (4): Conv2d(64, 224, kernel_size=(5, 5), stride=(1, 1), padding=(2, 2))\n",
            "    (5): PReLU(num_parameters=1)\n",
            "    (6): MaxPool2d(kernel_size=3, stride=2, padding=0, dilation=1, ceil_mode=False)\n",
            "    (7): BatchNorm2d(224, eps=1e-05, momentum=0.1, affine=True, track_running_stats=True)\n",
            "    (8): Conv2d(224, 224, kernel_size=(3, 3), stride=(1, 1), padding=(1, 1))\n",
            "    (9): PReLU(num_parameters=1)\n",
            "    (10): BatchNorm2d(224, eps=1e-05, momentum=0.1, affine=True, track_running_stats=True)\n",
            "    (11): Conv2d(224, 512, kernel_size=(3, 3), stride=(1, 1), padding=(1, 1))\n",
            "    (12): PReLU(num_parameters=1)\n",
            "    (13): BatchNorm2d(512, eps=1e-05, momentum=0.1, affine=True, track_running_stats=True)\n",
            "  )\n",
            "  (fc_layers): Sequential(\n",
            "    (0): Linear(in_features=4608, out_features=2304, bias=True)\n",
            "    (1): PReLU(num_parameters=1)\n",
            "    (2): Linear(in_features=2304, out_features=32, bias=True)\n",
            "  )\n",
            ")\n",
            "Epoch 1: TrL=5.8231, TrA=0.0001, VL=0.0000, VA=0.0000, TeL=0.0000, TeA=0.0000,\n",
            "Epoch 2: TrL=0.2267, TrA=0.0007, VL=0.0000, VA=0.0000, TeL=0.0000, TeA=0.0000,\n",
            "Epoch 3: TrL=0.2419, TrA=0.0008, VL=0.0000, VA=0.0000, TeL=0.0000, TeA=0.0000,\n",
            "Epoch 4: TrL=0.2189, TrA=0.0005, VL=0.0000, VA=0.0000, TeL=0.0000, TeA=0.0000,\n",
            "Epoch 5: TrL=0.2374, TrA=0.0008, VL=0.0000, VA=0.0000, TeL=0.0000, TeA=0.0000,\n",
            "Epoch 6: TrL=0.2217, TrA=0.0007, VL=0.0000, VA=0.0000, TeL=0.0000, TeA=0.0000,\n",
            "Epoch 7: TrL=0.2153, TrA=0.0007, VL=0.0000, VA=0.0000, TeL=0.0000, TeA=0.0000,\n",
            "Epoch 8: TrL=0.2197, TrA=0.0010, VL=0.0000, VA=0.0000, TeL=0.0000, TeA=0.0000,\n",
            "Epoch 9: TrL=0.2089, TrA=0.0010, VL=0.0000, VA=0.0000, TeL=0.0000, TeA=0.0000,\n",
            "Epoch 10: TrL=0.2109, TrA=0.0010, VL=0.0000, VA=0.0000, TeL=0.0000, TeA=0.0000,\n",
            "Epoch 11: TrL=0.2060, TrA=0.0001, VL=0.0000, VA=0.0000, TeL=0.0000, TeA=0.0000,\n",
            "Epoch 12: TrL=0.2055, TrA=0.0005, VL=0.0000, VA=0.0000, TeL=0.0000, TeA=0.0000,\n",
            "Epoch 13: TrL=0.2037, TrA=0.0005, VL=0.0000, VA=0.0000, TeL=0.0000, TeA=0.0000,\n",
            "Epoch 14: TrL=0.2092, TrA=0.0005, VL=0.0000, VA=0.0000, TeL=0.0000, TeA=0.0000,\n",
            "Epoch 15: TrL=0.2293, TrA=0.0008, VL=0.0000, VA=0.0000, TeL=0.0000, TeA=0.0000,\n",
            "Epoch 16: TrL=0.2021, TrA=0.0001, VL=0.0000, VA=0.0000, TeL=0.0000, TeA=0.0000,\n",
            "Epoch 17: TrL=0.2003, TrA=0.0011, VL=0.0000, VA=0.0000, TeL=0.0000, TeA=0.0000,\n",
            "Epoch 18: TrL=0.2009, TrA=0.0015, VL=0.0000, VA=0.0000, TeL=0.0000, TeA=0.0000,\n",
            "Epoch 19: TrL=0.2000, TrA=0.0014, VL=0.0000, VA=0.0000, TeL=0.0000, TeA=0.0000,\n",
            "Epoch 20: TrL=0.2009, TrA=0.0010, VL=0.0000, VA=0.0000, TeL=0.0000, TeA=0.0000,\n",
            "Epoch 21: TrL=0.2004, TrA=0.0011, VL=0.0000, VA=0.0000, TeL=0.0000, TeA=0.0000,\n",
            "Epoch 22: TrL=0.2007, TrA=0.0014, VL=0.0000, VA=0.0000, TeL=0.0000, TeA=0.0000,\n",
            "Epoch 23: TrL=0.2002, TrA=0.0011, VL=0.0000, VA=0.0000, TeL=0.0000, TeA=0.0000,\n",
            "Epoch 24: TrL=0.2007, TrA=0.0004, VL=0.0000, VA=0.0000, TeL=0.0000, TeA=0.0000,\n",
            "Epoch 25: TrL=0.2005, TrA=0.0008, VL=0.0000, VA=0.0000, TeL=0.0000, TeA=0.0000,\n"
          ],
          "name": "stdout"
        },
        {
          "output_type": "display_data",
          "data": {
            "image/png": "[encoded data removed]",
            "text/plain": [
              "<Figure size 432x288 with 1 Axes>"
            ]
          },
          "metadata": {
            "tags": [],
            "needs_background": "light"
          }
        },
        {
          "output_type": "display_data",
          "data": {
            "image/png": "[encoded data removed]",
            "text/plain": [
              "<Figure size 432x288 with 1 Axes>"
            ]
          },
          "metadata": {
            "tags": [],
            "needs_background": "light"
          }
        }
      ]
    }
  ]
}