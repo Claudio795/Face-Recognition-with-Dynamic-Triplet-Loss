{
  "nbformat": 4,
  "nbformat_minor": 0,
  "metadata": {
    "colab": {
      "name": "LFWDataset.ipynb",
      "provenance": [],
      "collapsed_sections": []
    },
    "kernelspec": {
      "name": "python3",
      "display_name": "Python 3"
    }
  },
  "cells": [
    {
      "cell_type": "markdown",
      "metadata": {
        "id": "vDqfRldZSDds"
      },
      "source": [
        "# IA Project - Face Recognition with Dynamic Triplet Loss"
      ]
    },
    {
      "cell_type": "markdown",
      "metadata": {
        "id": "74ceGeGASHIC"
      },
      "source": [
        "References: https://openaccess.thecvf.com/content_ICCV_2019/papers/Zhang_Learning_Local_Descriptors_With_a_CDF-Based_Dynamic_Soft_Margin_ICCV_2019_paper.pdf\n",
        "\n",
        "Dataset: http://vis-www.cs.umass.edu/lfw/#download"
      ]
    },
    {
      "cell_type": "code",
      "metadata": {
        "id": "dhRpOYJZR_ne"
      },
      "source": [
        "import torch\n",
        "from matplotlib import pyplot as plt\n",
        "from torchvision import datasets\n",
        "import torchvision.transforms.functional as TF\n",
        "import torchvision.transforms as T\n",
        "import numpy as np\n",
        "import collections\n",
        "import PIL.Image\n",
        "from torch.utils.data import DataLoader, Subset\n",
        "import os\n",
        "import random\n",
        "\n",
        "import torch.nn as nn\n",
        "import torch.nn.functional as F\n",
        "import torch.optim as optim"
      ],
      "execution_count": 1,
      "outputs": []
    },
    {
      "cell_type": "code",
      "metadata": {
        "id": "PKIejUZSSJq8",
        "outputId": "26463c46-8001-46db-942e-766acd5c64a3",
        "colab": {
          "base_uri": "https://localhost:8080/",
          "height": 34
        }
      },
      "source": [
        "dev = torch.device(\"cuda\" if torch.cuda.is_available() else \"cpu\")\n",
        "print(dev)"
      ],
      "execution_count": 2,
      "outputs": [
        {
          "output_type": "stream",
          "text": [
            "cpu\n"
          ],
          "name": "stdout"
        }
      ]
    },
    {
      "cell_type": "markdown",
      "metadata": {
        "id": "DkFSjhnQSLt7"
      },
      "source": [
        "### Pre-precessing data"
      ]
    },
    {
      "cell_type": "code",
      "metadata": {
        "id": "mdSQ4aNRSNyr"
      },
      "source": [
        "#path\n",
        "data_path = \"./LFW_DIR\"\n",
        "train_path = \"./data/train_pairs.txt\"\n",
        "test_path = \"./data/test_pairs.txt\"\n",
        "people_path = \"./data/people.txt\""
      ],
      "execution_count": 3,
      "outputs": []
    },
    {
      "cell_type": "code",
      "metadata": {
        "id": "ywc2QkEkvM2c"
      },
      "source": [
        "norm_mean = (0.485, 0.456, 0.406)\n",
        "norm_std = (0.229, 0.224, 0.225)\n",
        "\n",
        "test_transform = T.Compose([\n",
        "    T.Resize(250),  # make 250x250\n",
        "    T.CenterCrop(150),   # then take 150x150 center crop\n",
        "    T.ToTensor(),\n",
        "    T.Normalize(norm_mean, norm_std),\n",
        "])\n",
        "\n",
        "train_transform = T.Compose([\n",
        "    T.Resize(250),\n",
        "    T.RandomCrop(150),\n",
        "    T.RandomHorizontalFlip(),\n",
        "    T.ToTensor(),\n",
        "    T.Normalize(norm_mean, norm_std),\n",
        "])"
      ],
      "execution_count": 4,
      "outputs": []
    },
    {
      "cell_type": "code",
      "metadata": {
        "id": "73VKzt_sSO87"
      },
      "source": [
        "def readPeople(people_path):\n",
        "  people_list = []\n",
        "  with open(people_path, 'r') as file:\n",
        "    for line in file.readlines():\n",
        "      person = line.strip().split()\n",
        "      people_list.append(person)\n",
        "  return people_list"
      ],
      "execution_count": 5,
      "outputs": []
    },
    {
      "cell_type": "code",
      "metadata": {
        "id": "QPQxtfRlTTgd"
      },
      "source": [
        "people_list= readPeople(people_path)\n",
        "# people_list"
      ],
      "execution_count": 6,
      "outputs": []
    },
    {
      "cell_type": "code",
      "metadata": {
        "id": "hgSGZx3JadkX"
      },
      "source": [
        "# cambiare i nomi con le labels\n",
        "def getLabeledImages(data_path, people_list):\n",
        "  labeledImages = {}\n",
        "  label = 0\n",
        "  \n",
        "\n",
        "  for person in people_list:\n",
        "    if int(person[1]) > 1:    # se ho più di una immagine per persona\n",
        "      for img_id in range(1, int(person[1])+1):\n",
        "        path = os.path.join(data_path, person[0], person[0] + '_' + '%04d' % img_id + '.jpg')\n",
        "        labeledImages[path] = label\n",
        "      label += 1\n",
        "\n",
        "  return labeledImages"
      ],
      "execution_count": 7,
      "outputs": []
    },
    {
      "cell_type": "code",
      "metadata": {
        "id": "WxHovEu-U9rt",
        "outputId": "2f5e7af3-3956-44a4-b174-a93e90b7be90",
        "colab": {
          "base_uri": "https://localhost:8080/",
          "height": 51
        }
      },
      "source": [
        "labeledImages = getLabeledImages(data_path, people_list)\n",
        "print(len(labeledImages.keys()))    # dizionario 'img_path: label'\n",
        "print(len(set(labeledImages.values())))"
      ],
      "execution_count": 8,
      "outputs": [
        {
          "output_type": "stream",
          "text": [
            "9164\n",
            "1680\n"
          ],
          "name": "stdout"
        }
      ]
    },
    {
      "cell_type": "code",
      "metadata": {
        "id": "6JIPlIw7FfBg"
      },
      "source": [
        "class LFWDataset(torch.utils.data.Dataset):\n",
        "\n",
        "  def __init__(self, labeledImages, train=True, transform=None):\n",
        "    self.transform = transform\n",
        "    self.labeledImages = labeledImages\n",
        "    self.images = list(labeledImages.keys())\n",
        "    self.train = train\n",
        "    # self.indeces = indeces\n",
        "\n",
        "  def __len__(self):\n",
        "    return len(self.images)\n",
        "\n",
        "  #def getLabel(self, anchor_img):\n",
        "    \n",
        "\n",
        "  def __getitem__(self, index):\n",
        "    anchor_path = self.images[index]\n",
        "    anchor_label = self.labeledImages[anchor_path]\n",
        "    anchor_img = PIL.Image.open(anchor_path)\n",
        "\n",
        "    if self.train:\n",
        "      # get positive image path\n",
        "      positive_list = [item for item in self.images if self.labeledImages[item] == anchor_label and item != anchor_path]\n",
        "      positive_path = random.choice(positive_list)\n",
        "\n",
        "      # get negative image path\n",
        "      negative_list = [item for item in self.labeledImages.keys() if item not in positive_list]\n",
        "      negative_path = random.choice(negative_list)\n",
        "\n",
        "      # get images from paths\n",
        "      positive_img = PIL.Image.open(positive_path)\n",
        "      negative_img = PIL.Image.open(negative_path)\n",
        "\n",
        "    # transform images\n",
        "      if self.transform:\n",
        "        anchor_img = self.transform(anchor_img)\n",
        "        positive_img = self.transform(positive_img)\n",
        "        negative_img = self.transform(negative_img)\n",
        "\n",
        "      return anchor_img, positive_img, negative_img, anchor_label\n",
        "\n",
        "    else:\n",
        "      if self.transform:\n",
        "        anchor_img = self.transform(anchor_img)\n",
        "      return anchor_img, anchor_label"
      ],
      "execution_count": 50,
      "outputs": []
    },
    {
      "cell_type": "code",
      "metadata": {
        "id": "PRDiltBqf_Zj"
      },
      "source": [
        "lfw_dataset = LFWDataset(labeledImages)"
      ],
      "execution_count": 51,
      "outputs": []
    },
    {
      "cell_type": "code",
      "metadata": {
        "id": "FpDxICRVGLeQ",
        "outputId": "65a2dc0f-e95f-4f45-c943-4a2bf541cc1f",
        "colab": {
          "base_uri": "https://localhost:8080/",
          "height": 34
        }
      },
      "source": [
        "# Compute dataset sizes\n",
        "num_data = len(lfw_dataset)\n",
        "print(f\"Num. samples: {num_data}\")"
      ],
      "execution_count": 53,
      "outputs": [
        {
          "output_type": "stream",
          "text": [
            "Num. samples: 9164\n"
          ],
          "name": "stdout"
        }
      ]
    },
    {
      "cell_type": "code",
      "metadata": {
        "id": "o5J_rCfiGUQ4"
      },
      "source": [
        "# List of indexes on the dataset\n",
        "list_idx = list(range(num_data))\n",
        "random.shuffle(list_idx)"
      ],
      "execution_count": 54,
      "outputs": []
    },
    {
      "cell_type": "code",
      "metadata": {
        "id": "_hKL7O-wwwbK"
      },
      "source": [
        "#test fraction\n",
        "test_frac = 0.1\n",
        "# Compute number of samples\n",
        "num_test = int(num_data*test_frac)\n",
        "num_data = num_data - num_test\n",
        "# Split set\n",
        "test_idx = list_idx[num_data:]\n",
        "list_idx = list_idx[:num_data]"
      ],
      "execution_count": 55,
      "outputs": []
    },
    {
      "cell_type": "code",
      "metadata": {
        "id": "DiWIKg3MGf1u"
      },
      "source": [
        "# Split \n",
        "test_dataset = Subset(lfw_dataset, test_idx)\n",
        "dataset = Subset(lfw_dataset, list_idx)"
      ],
      "execution_count": 56,
      "outputs": []
    },
    {
      "cell_type": "code",
      "metadata": {
        "id": "AHOgvL_uGJvZ"
      },
      "source": [
        "#validation fraction\n",
        "val_frac = 0.1\n",
        "# Compute number of samples\n",
        "num_val = int(num_data*val_frac)\n",
        "num_data = num_data - num_val\n",
        "# Split set\n",
        "val_idx = list_idx[num_data:]\n",
        "list_idx = list_idx[:num_data]"
      ],
      "execution_count": 57,
      "outputs": []
    },
    {
      "cell_type": "code",
      "metadata": {
        "id": "TZuNH2ycGrhS"
      },
      "source": [
        "# Split train_dataset into training and validation\n",
        "val_dataset = Subset(lfw_dataset, val_idx)\n",
        "train_dataset = Subset(lfw_dataset, list_idx)"
      ],
      "execution_count": 58,
      "outputs": []
    },
    {
      "cell_type": "code",
      "metadata": {
        "id": "7Sg_0SpRcUay"
      },
      "source": [
        "train_dataset.dataset.transform = train_transform\n",
        "test_dataset.dataset.transform = test_transform\n",
        "val_dataset.dataset.transform = test_transform\n",
        "test_dataset.dataset.train = False\n",
        "val_dataset.dataset.train = False"
      ],
      "execution_count": 59,
      "outputs": []
    },
    {
      "cell_type": "code",
      "metadata": {
        "id": "qX1XMKn-HaUH",
        "outputId": "e7e7de44-e556-4a7f-84e9-09087ee40753",
        "colab": {
          "base_uri": "https://localhost:8080/",
          "height": 68
        }
      },
      "source": [
        "num_train = len(train_dataset)\n",
        "num_test = len(test_dataset)\n",
        "num_val = len(val_dataset)\n",
        "\n",
        "print(f\"Num. training samples: {num_train}\")\n",
        "print(f\"Num. test samples: {num_test}\")\n",
        "print(f\"Num. val samples: {num_val}\")"
      ],
      "execution_count": 60,
      "outputs": [
        {
          "output_type": "stream",
          "text": [
            "Num. training samples: 7424\n",
            "Num. test samples: 916\n",
            "Num. val samples: 824\n"
          ],
          "name": "stdout"
        }
      ]
    },
    {
      "cell_type": "code",
      "metadata": {
        "id": "HpX2l2-cGugC"
      },
      "source": [
        "# Define loaders\n",
        "train_loader = DataLoader(train_dataset, batch_size=64, num_workers=4, shuffle=True)\n",
        "val_loader   = DataLoader(val_dataset,   batch_size=64, num_workers=4, shuffle=False)\n",
        "test_loader  = DataLoader(test_dataset,  batch_size=64, num_workers=4, shuffle=False)"
      ],
      "execution_count": 61,
      "outputs": []
    },
    {
      "cell_type": "code",
      "metadata": {
        "id": "y02ZlSDbG6ur"
      },
      "source": [
        "# Define dictionary of loaders\n",
        "loaders = {\"train\": train_loader,\n",
        "           \"val\": val_loader,\n",
        "           \"test\": test_loader}"
      ],
      "execution_count": 62,
      "outputs": []
    },
    {
      "cell_type": "markdown",
      "metadata": {
        "id": "5az1HtKhHAXJ"
      },
      "source": [
        "### Dynamic Triplet Loss implementation"
      ]
    },
    {
      "cell_type": "code",
      "metadata": {
        "id": "L_u9gNzvG8bu"
      },
      "source": [
        "class TripletLoss(nn.Module):\n",
        "  def __init__(self, margin = 0.2):\n",
        "    super(TripletLoss, self).__init__()\n",
        "    self.margin = margin\n",
        "\n",
        "  def pairwise_dist(x, y):\n",
        "    dist = torch.sqrt((x - y).pow(2).sum(1))\n",
        "    return dist\n",
        "\n",
        "  def forward(self, anchor, positive, negative):\n",
        "    margin = self.margin\n",
        "    pos_dist = pairwise_dist(anchor, positive)\n",
        "    print(pos_dist, pos_dist.shape)\n",
        "    neg_dist = pairwise_dist(anchor, negative)\n",
        "    print(neg_dist)\n",
        "    loss = pos_dist - neg_dist + margin\n",
        "    loss = torch.clamp(loss, min = 0.0).sum\n",
        "    return loss"
      ],
      "execution_count": 63,
      "outputs": []
    },
    {
      "cell_type": "markdown",
      "metadata": {
        "id": "N5O85S5HHQ0q"
      },
      "source": [
        "### CNN Model"
      ]
    },
    {
      "cell_type": "code",
      "metadata": {
        "id": "rStJHLI-jPmk",
        "outputId": "e4242bb0-a50f-4c65-f29a-0361ae9e7bae",
        "colab": {
          "base_uri": "https://localhost:8080/",
          "height": 34
        }
      },
      "source": [
        "len(set(labeledImages.values()))"
      ],
      "execution_count": 64,
      "outputs": [
        {
          "output_type": "execute_result",
          "data": {
            "text/plain": [
              "1680"
            ]
          },
          "metadata": {
            "tags": []
          },
          "execution_count": 64
        }
      ]
    },
    {
      "cell_type": "code",
      "metadata": {
        "id": "d4pIACoM8nGj"
      },
      "source": [
        "class CNN(nn.Module):\n",
        "    def __init__(self):\n",
        "        super().__init__()\n",
        "        self.conv_layers = nn.Sequential(\n",
        "            nn.Conv2d(3, 150, kernel_size=5, padding=0, stride=1),\n",
        "            nn.PReLU(),\n",
        "            nn.MaxPool2d(kernel_size=2, stride=2),\n",
        "            nn.BatchNorm2d(150),\n",
        "            # nn.Dropout(0.3),\n",
        "\n",
        "            nn.Conv2d(150, 256, kernel_size=5, padding=0, stride=1),\n",
        "            nn.PReLU(),\n",
        "            nn.MaxPool2d(kernel_size=2, stride=2),\n",
        "            nn.BatchNorm2d(256),\n",
        "            # nn.Dropout(0.3)\n",
        "          \n",
        "            nn.Conv2d(256, 256, kernel_size=5, padding=0, stride=1),\n",
        "            nn.PReLU(),\n",
        "            nn.MaxPool2d(kernel_size=4, stride=2),\n",
        "            nn.BatchNorm2d(256),\n",
        "            # nn.Dropout(0.3)\n",
        "\n",
        "            nn.Conv2d(256, 512, kernel_size=5, padding=0, stride=1),\n",
        "            nn.PReLU(),\n",
        "            nn.MaxPool2d(kernel_size=4, stride=2),\n",
        "            nn.BatchNorm2d(512),\n",
        "            # nn.Dropout(0.3)\n",
        "        )\n",
        "  \n",
        "        self.fc_layers = nn.Sequential(\n",
        "            nn.Linear(8192, 4096),\n",
        "            nn.PReLU(),\n",
        "            nn.Linear(4096, 1680)\n",
        "        )\n",
        "        \n",
        "    def forward(self, x):\n",
        "        x = self.conv(x)\n",
        "        x = x.view(x.size(0), -1)\n",
        "        x = self.fc_layers(x)\n",
        "        return x"
      ],
      "execution_count": 65,
      "outputs": []
    },
    {
      "cell_type": "markdown",
      "metadata": {
        "id": "D3KzLadIApu8"
      },
      "source": [
        "### Training Loop\n"
      ]
    },
    {
      "cell_type": "code",
      "metadata": {
        "id": "B-LIlB5-37Jd"
      },
      "source": [
        "def train(epochs, dev, lr = 0.001):\n",
        "  try:\n",
        "    model = CNN()\n",
        "    model.to(dev)\n",
        "    print(model)\n",
        "    optimizer = optim.Adam(model.parameters(), lr=lr)\n",
        "\n",
        "    history_loss = {\"train\": [], \"val\": [], \"test\": []}\n",
        "    # history_accuracy = {\"train\": [], \"val\": [], \"test\": []}\n",
        "\n",
        "    for epoch in range(epochs):\n",
        "      sum_loss = {\"train\": 0, \"val\": 0, \"test\": 0}\n",
        "      # sum_accuracy = {\"train\": 0, \"val\": 0, \"test\": 0}\n",
        "      for split in [\"train\", \"val\", \"test\"]:\n",
        "        for step,(anchor_img, positive_img, negative_img, anchor_label) in enumerate(loaders[split]):\n",
        "\n",
        "          # Move to CUDA\n",
        "          anchor_img = anchor_img.to(device)\n",
        "          positive_img = positive_img.to(device)\n",
        "          negative_img = negative_img.to(device)\n",
        "\n",
        "          # Reset gradients\n",
        "          optimizer.zero_grad()\n",
        "          # Compute output\n",
        "          anchor_out = model(anchor_img)\n",
        "          positive_out = model(positive_img)\n",
        "          negative_out = model(negative_img)\n",
        "\n",
        "          loss = TripletLoss(anchor_out, positive_out, negative_out)\n",
        "\n",
        "          # Update loss\n",
        "          sum_loss[split] += l\n",
        "\n",
        "          # Check parameter update\n",
        "          if split == 'train':\n",
        "            loss.backward()\n",
        "            optimizer.step()\n",
        "\n",
        "      # Compute epoch loss\n",
        "      epoch_loss = {split: sum_loss[split]/len(loaders[split]) for split in [\"train\", \"val\", \"test\"]}\n",
        "      # Update history\n",
        "      for split in [\"train\", \"val\", \"test\"]:\n",
        "        history_loss[split].append(epoch_loss[split])\n",
        "      \n",
        "      # Print info\n",
        "      print(f\"Epoch {epoch+1}:\",\n",
        "            f\"TrL={epoch_loss['train']:.4f},\"\n",
        "            f\"VL={epoch_loss['val']:.4f},\",\n",
        "            f\"TeL={epoch_loss['test']:.4f},\"\n",
        "            ) \n",
        "  except KeyboardInterrupt:\n",
        "    print(\"Interrupted\")\n",
        "  finally:\n",
        "    # Plot loss\n",
        "    plt.title(\"Loss\")\n",
        "    for split in [\"train\", \"val\", \"test\"]:\n",
        "      plt.plot(history_loss[split], label=split)\n",
        "    plt.legend()\n",
        "    plt.show()"
      ],
      "execution_count": 71,
      "outputs": []
    },
    {
      "cell_type": "code",
      "metadata": {
        "id": "wVA1Be_TBx5u",
        "outputId": "c3decca2-25be-4ade-ab1d-c1d7e67b5122",
        "colab": {
          "base_uri": "https://localhost:8080/",
          "height": 971
        }
      },
      "source": [
        "train(100, dev, 0.001)"
      ],
      "execution_count": 72,
      "outputs": [
        {
          "output_type": "stream",
          "text": [
            "CNN(\n",
            "  (conv_layers): Sequential(\n",
            "    (0): Conv2d(3, 150, kernel_size=(5, 5), stride=(1, 1))\n",
            "    (1): PReLU(num_parameters=1)\n",
            "    (2): MaxPool2d(kernel_size=2, stride=2, padding=0, dilation=1, ceil_mode=False)\n",
            "    (3): BatchNorm2d(150, eps=1e-05, momentum=0.1, affine=True, track_running_stats=True)\n",
            "    (4): Conv2d(150, 256, kernel_size=(5, 5), stride=(1, 1))\n",
            "    (5): PReLU(num_parameters=1)\n",
            "    (6): MaxPool2d(kernel_size=2, stride=2, padding=0, dilation=1, ceil_mode=False)\n",
            "    (7): BatchNorm2d(256, eps=1e-05, momentum=0.1, affine=True, track_running_stats=True)\n",
            "    (8): Conv2d(256, 256, kernel_size=(5, 5), stride=(1, 1))\n",
            "    (9): PReLU(num_parameters=1)\n",
            "    (10): MaxPool2d(kernel_size=4, stride=2, padding=0, dilation=1, ceil_mode=False)\n",
            "    (11): BatchNorm2d(256, eps=1e-05, momentum=0.1, affine=True, track_running_stats=True)\n",
            "    (12): Conv2d(256, 512, kernel_size=(5, 5), stride=(1, 1))\n",
            "    (13): PReLU(num_parameters=1)\n",
            "    (14): MaxPool2d(kernel_size=4, stride=2, padding=0, dilation=1, ceil_mode=False)\n",
            "    (15): BatchNorm2d(512, eps=1e-05, momentum=0.1, affine=True, track_running_stats=True)\n",
            "  )\n",
            "  (fc_layers): Sequential(\n",
            "    (0): Linear(in_features=8192, out_features=4096, bias=True)\n",
            "    (1): PReLU(num_parameters=1)\n",
            "    (2): Linear(in_features=4096, out_features=1680, bias=True)\n",
            "  )\n",
            ")\n"
          ],
          "name": "stdout"
        },
        {
          "output_type": "display_data",
          "data": {
            "text/plain": [
              "<Figure size 432x288 with 1 Axes>"
            ],
            "image/png": "[encoded data removed]"
          },
          "metadata": {
            "tags": [],
            "needs_background": "light"
          }
        },
        {
          "output_type": "error",
          "ename": "ValueError",
          "evalue": "ignored",
          "traceback": [
            "\u001b[0;31m---------------------------------------------------------------------------\u001b[0m",
            "\u001b[0;31mValueError\u001b[0m                                Traceback (most recent call last)",
            "\u001b[0;32m<ipython-input-72-93ec95699b1b>\u001b[0m in \u001b[0;36m<module>\u001b[0;34m\u001b[0m\n\u001b[0;32m----> 1\u001b[0;31m \u001b[0mtrain\u001b[0m\u001b[0;34m(\u001b[0m\u001b[0;36m100\u001b[0m\u001b[0;34m,\u001b[0m \u001b[0mdev\u001b[0m\u001b[0;34m,\u001b[0m \u001b[0;36m0.001\u001b[0m\u001b[0;34m)\u001b[0m\u001b[0;34m\u001b[0m\u001b[0;34m\u001b[0m\u001b[0m\n\u001b[0m",
            "\u001b[0;32m<ipython-input-71-cfa0b35c6dd1>\u001b[0m in \u001b[0;36mtrain\u001b[0;34m(epochs, dev, lr)\u001b[0m\n\u001b[1;32m     13\u001b[0m       \u001b[0;31m# sum_accuracy = {\"train\": 0, \"val\": 0, \"test\": 0}\u001b[0m\u001b[0;34m\u001b[0m\u001b[0;34m\u001b[0m\u001b[0;34m\u001b[0m\u001b[0m\n\u001b[1;32m     14\u001b[0m       \u001b[0;32mfor\u001b[0m \u001b[0msplit\u001b[0m \u001b[0;32min\u001b[0m \u001b[0;34m[\u001b[0m\u001b[0;34m\"train\"\u001b[0m\u001b[0;34m,\u001b[0m \u001b[0;34m\"val\"\u001b[0m\u001b[0;34m,\u001b[0m \u001b[0;34m\"test\"\u001b[0m\u001b[0;34m]\u001b[0m\u001b[0;34m:\u001b[0m\u001b[0;34m\u001b[0m\u001b[0;34m\u001b[0m\u001b[0m\n\u001b[0;32m---> 15\u001b[0;31m         \u001b[0;32mfor\u001b[0m \u001b[0mstep\u001b[0m\u001b[0;34m,\u001b[0m\u001b[0;34m(\u001b[0m\u001b[0manchor_img\u001b[0m\u001b[0;34m,\u001b[0m \u001b[0mpositive_img\u001b[0m\u001b[0;34m,\u001b[0m \u001b[0mnegative_img\u001b[0m\u001b[0;34m,\u001b[0m \u001b[0manchor_label\u001b[0m\u001b[0;34m)\u001b[0m \u001b[0;32min\u001b[0m \u001b[0menumerate\u001b[0m\u001b[0;34m(\u001b[0m\u001b[0mloaders\u001b[0m\u001b[0;34m[\u001b[0m\u001b[0msplit\u001b[0m\u001b[0;34m]\u001b[0m\u001b[0;34m)\u001b[0m\u001b[0;34m:\u001b[0m\u001b[0;34m\u001b[0m\u001b[0;34m\u001b[0m\u001b[0m\n\u001b[0m\u001b[1;32m     16\u001b[0m \u001b[0;34m\u001b[0m\u001b[0m\n\u001b[1;32m     17\u001b[0m           \u001b[0;31m# Move to CUDA\u001b[0m\u001b[0;34m\u001b[0m\u001b[0;34m\u001b[0m\u001b[0;34m\u001b[0m\u001b[0m\n",
            "\u001b[0;31mValueError\u001b[0m: not enough values to unpack (expected 4, got 2)"
          ]
        }
      ]
    }
  ]
}