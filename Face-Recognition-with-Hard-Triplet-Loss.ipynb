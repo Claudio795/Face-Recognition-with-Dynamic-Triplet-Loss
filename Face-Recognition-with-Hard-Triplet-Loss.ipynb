{
  "nbformat": 4,
  "nbformat_minor": 0,
  "metadata": {
    "colab": {
      "name": "Progetto - il ritorno dell'overfit.ipynb",
      "provenance": [],
      "collapsed_sections": []
    },
    "kernelspec": {
      "name": "python3",
      "display_name": "Python 3"
    },
    "accelerator": "GPU"
  },
  "cells": [
    {
      "cell_type": "markdown",
      "metadata": {
        "id": "UPu431TPoDqN"
      },
      "source": [
        "## Imports"
      ]
    },
    {
      "cell_type": "code",
      "metadata": {
        "id": "Fu-yvW0-d8zg"
      },
      "source": [
        "import torch\r\n",
        "from matplotlib import pyplot as plt\r\n",
        "from torchvision import datasets, models\r\n",
        "import torchvision.transforms.functional as TF\r\n",
        "import torchvision.transforms as T\r\n",
        "import numpy as np\r\n",
        "import collections\r\n",
        "import PIL.Image\r\n",
        "from torch.utils.data import DataLoader, Subset\r\n",
        "import os\r\n",
        "import random\r\n",
        "from google.colab import drive\r\n",
        "import torch.nn as nn\r\n",
        "import torch.nn.functional as F\r\n",
        "import torch.optim as optim\r\n",
        "\r\n",
        "# from facenet_pytorch import MTCNN"
      ],
      "execution_count": null,
      "outputs": []
    },
    {
      "cell_type": "markdown",
      "metadata": {
        "id": "Z4iqpysloHM3"
      },
      "source": [
        "## Select device"
      ]
    },
    {
      "cell_type": "code",
      "metadata": {
        "colab": {
          "base_uri": "https://localhost:8080/"
        },
        "id": "7PjvunIShTt9",
        "outputId": "99272612-731e-4156-c723-55b788864cca"
      },
      "source": [
        "device = torch.device('cuda' if torch.cuda.is_available() else 'cpu')\r\n",
        "print(device)"
      ],
      "execution_count": null,
      "outputs": [
        {
          "output_type": "stream",
          "text": [
            "cuda\n"
          ],
          "name": "stdout"
        }
      ]
    },
    {
      "cell_type": "markdown",
      "metadata": {
        "id": "I9Me8uQ5oOHg"
      },
      "source": [
        "## Google Drive Mount and paths"
      ]
    },
    {
      "cell_type": "code",
      "metadata": {
        "id": "96UdU1psd8xS",
        "colab": {
          "base_uri": "https://localhost:8080/"
        },
        "outputId": "0ccf2906-74a9-48d4-8143-f8498895fbc3"
      },
      "source": [
        "drive.mount(\"/content/drive\")\r\n",
        "root_dir = \"/content/drive/My Drive/IA_Project\""
      ],
      "execution_count": null,
      "outputs": [
        {
          "output_type": "stream",
          "text": [
            "Drive already mounted at /content/drive; to attempt to forcibly remount, call drive.mount(\"/content/drive\", force_remount=True).\n"
          ],
          "name": "stdout"
        }
      ]
    },
    {
      "cell_type": "code",
      "metadata": {
        "id": "Hzn6IZHSd8vD"
      },
      "source": [
        "data_path = os.path.join(root_dir, \"LFW_DIR\")\r\n",
        "people_path = os.path.join(root_dir, \"data/people.txt\")"
      ],
      "execution_count": null,
      "outputs": []
    },
    {
      "cell_type": "markdown",
      "metadata": {
        "id": "Nb4nWcNNoYBA"
      },
      "source": [
        "## Hyperparameters"
      ]
    },
    {
      "cell_type": "code",
      "metadata": {
        "id": "MvLkAD5kd8tF"
      },
      "source": [
        "# iperparametri\r\n",
        "img_size = 224\r\n",
        "crop_size = 128\r\n",
        "batch_size = 5"
      ],
      "execution_count": null,
      "outputs": []
    },
    {
      "cell_type": "markdown",
      "metadata": {
        "id": "LhIbNVmXobAp"
      },
      "source": [
        "## Data Loading"
      ]
    },
    {
      "cell_type": "code",
      "metadata": {
        "id": "uQjweybdd8qw"
      },
      "source": [
        "# image transformation\r\n",
        "\r\n",
        "norm_mean = (0.485, 0.456, 0.406)\r\n",
        "norm_std = (0.229, 0.224, 0.225)\r\n",
        "#norm_mean = (0.5, 0.5, 0.5)\r\n",
        "#norm_std = (0.5, 0.5, 0.5)\r\n",
        "\r\n",
        "test_transform = T.Compose([\r\n",
        "    T.Resize(img_size),\r\n",
        "    T.CenterCrop(crop_size),\r\n",
        "    T.ToTensor(),\r\n",
        "    T.Normalize(norm_mean, norm_std),\r\n",
        "])\r\n",
        "\r\n",
        "train_transform = T.Compose([\r\n",
        "    T.Resize(img_size),\r\n",
        "    T.RandomCrop(crop_size),\r\n",
        "    T.RandomHorizontalFlip(),\r\n",
        "    T.ToTensor(),\r\n",
        "    T.Normalize(norm_mean, norm_std),\r\n",
        "])"
      ],
      "execution_count": null,
      "outputs": []
    },
    {
      "cell_type": "code",
      "metadata": {
        "id": "OY-yxwB2d8oZ"
      },
      "source": [
        "# funzione per la lettura della lista [nome_persona, num_immagini] da file .txt\r\n",
        "def readPeople(people_path):\r\n",
        "  people_list = []\r\n",
        "  with open(people_path, 'r') as file:\r\n",
        "    for line in file.readlines():\r\n",
        "      person = line.strip().split()\r\n",
        "      people_list.append(person)\r\n",
        "  return people_list\r\n",
        "\r\n",
        "people_list = readPeople(people_path)"
      ],
      "execution_count": null,
      "outputs": []
    },
    {
      "cell_type": "code",
      "metadata": {
        "id": "TItsbyU21kK7"
      },
      "source": [
        "# people_list"
      ],
      "execution_count": null,
      "outputs": []
    },
    {
      "cell_type": "code",
      "metadata": {
        "id": "hj1t-6kld8l4"
      },
      "source": [
        "# funzione di filtraggio delle persone in base al numero di immagini nel dataset\r\n",
        "# utilizzando la lista di persone precedentemente ricavata\r\n",
        "def get_class_images_dict(data_path, people_list):\r\n",
        "  class_images_dict = {}\r\n",
        "  label = 1\r\n",
        "\r\n",
        "  for person in people_list:\r\n",
        "    # prendo tutte le persone che hanno almeno 5 immagini...\r\n",
        "    if int(person[1]) >= 5:\r\n",
        "      images = []\r\n",
        "      # ... e di queste ne prendo solamente le prime 5 \r\n",
        "      for img_id in range(1, 5):\r\n",
        "        path = os.path.join(data_path, person[0], person[0] + '_' + '%04d' % img_id + '.jpg')\r\n",
        "        #images.append(path)\r\n",
        "        class_images_dict[path] = label\r\n",
        "      label += 1\r\n",
        "\r\n",
        "  # otteniamo un dizionario del tipo { image_path: label}\r\n",
        "  return class_images_dict"
      ],
      "execution_count": null,
      "outputs": []
    },
    {
      "cell_type": "code",
      "metadata": {
        "id": "kfcZfqtEd8hU",
        "colab": {
          "base_uri": "https://localhost:8080/"
        },
        "outputId": "db93e756-dfb2-4aec-e978-569c3264f247"
      },
      "source": [
        "class_images_dict = get_class_images_dict(data_path, people_list)\r\n",
        "\r\n",
        "print(f\"Numero di immagini: {len(class_images_dict)}\")\r\n",
        "\r\n",
        "embed_dim = len(class_images_dict)"
      ],
      "execution_count": null,
      "outputs": [
        {
          "output_type": "stream",
          "text": [
            "Numero di immagini: 1692\n"
          ],
          "name": "stdout"
        }
      ]
    },
    {
      "cell_type": "code",
      "metadata": {
        "id": "F1mXXkwK1w-e"
      },
      "source": [
        "# class_images_dict"
      ],
      "execution_count": null,
      "outputs": []
    },
    {
      "cell_type": "code",
      "metadata": {
        "id": "5H5tJZOid8fE"
      },
      "source": [
        "# Prepariamo le frazioni per i tre dataset\r\n",
        "list_item = list(class_images_dict.items())\r\n",
        "random.shuffle(list_item)\r\n",
        "list_item_rand = dict(list_item)\r\n",
        "\r\n",
        "# Dataset fraction\r\n",
        "test_frac = 0.2\r\n",
        "val_frac = 0.2\r\n",
        "\r\n",
        "# data len\r\n",
        "num_data = len(class_images_dict)\r\n",
        "num_test = int(num_data*test_frac)\r\n",
        "num_val = int(num_data*val_frac)\r\n",
        "\r\n",
        "# split dict in train, test, val\r\n",
        "num_data = num_data - num_test\r\n",
        "test_items = dict(list(list_item_rand.items())[num_data:]) \r\n",
        "list_item_rand = dict(list(list_item_rand.items())[:num_data])\r\n",
        "\r\n",
        "num_data = num_data - num_val\r\n",
        "val_items = dict(list(list_item_rand.items())[num_data:]) \r\n",
        "train_items = dict(list(list_item_rand.items())[:num_data])"
      ],
      "execution_count": null,
      "outputs": []
    },
    {
      "cell_type": "code",
      "metadata": {
        "id": "qmD1ThW7CpmV"
      },
      "source": [
        "# a questo punto abbiamo tre dizionari che poi utilizzeremo per creare i nostri dataset\r\n",
        "# eseguiamo ora un controllo per fare in modo che non vi siano label spaiate\r\n",
        "def del_umpaired_images(dataset_dict):\r\n",
        "  rev_dict = {}\r\n",
        "  for key,value in dataset_dict.items():\r\n",
        "    # inverto key e value del dizionario passato in argomento \r\n",
        "    rev_dict.setdefault(value, set()).add(key)\r\n",
        "    # prendo ora le key che abbiamo solo una volta\r\n",
        "    single_labels = [key for key, values in rev_dict.items() if len(values) == 1] \r\n",
        "  \r\n",
        "  print(f\"Dataset lenght before: {len(dataset_dict)}\")\r\n",
        "  for item in single_labels:\r\n",
        "    # abbiamo usato un set per il rev dict che non so perché mi smichia gli elementi\r\n",
        "    # quindi ci calo un malu join e mi recupero la key per eliminare l'elemento dal dict\r\n",
        "    key = \"\".join(rev_dict[item])\r\n",
        "    del dataset_dict[key]\r\n",
        "\r\n",
        "  print(f\"Dataset lenght after: {len(dataset_dict)}\")\r\n",
        "  return dataset_dict"
      ],
      "execution_count": null,
      "outputs": []
    },
    {
      "cell_type": "code",
      "metadata": {
        "colab": {
          "base_uri": "https://localhost:8080/"
        },
        "id": "X-QZ3VCgH0l4",
        "outputId": "63f08a2d-c9e0-4cc8-e852-da0764ea4e7a"
      },
      "source": [
        "print(\"Train:\")\r\n",
        "train_items = del_umpaired_images(train_items)\r\n",
        "print(\"Test:\")\r\n",
        "test_items = del_umpaired_images(test_items)\r\n",
        "print(\"Val:\")\r\n",
        "val_items = del_umpaired_images(val_items)"
      ],
      "execution_count": null,
      "outputs": [
        {
          "output_type": "stream",
          "text": [
            "Train:\n",
            "Dataset lenght before: 1016\n",
            "Dataset lenght after: 953\n",
            "Test:\n",
            "Dataset lenght before: 338\n",
            "Dataset lenght after: 147\n",
            "Val:\n",
            "Dataset lenght before: 338\n",
            "Dataset lenght after: 168\n"
          ],
          "name": "stdout"
        }
      ]
    },
    {
      "cell_type": "code",
      "metadata": {
        "colab": {
          "base_uri": "https://localhost:8080/"
        },
        "id": "NnCrwPT74DUx",
        "outputId": "22899667-9538-4e85-99bd-d5fc4b02e592"
      },
      "source": [
        "print(f\" number of train samples: {len(train_items)}\\n\",\r\n",
        "      f\"number of val samples: {len(val_items)}\\n\",\r\n",
        "      f\"number if test samples: {len(test_items)}\")"
      ],
      "execution_count": null,
      "outputs": [
        {
          "output_type": "stream",
          "text": [
            " number of train samples: 953\n",
            " number of val samples: 168\n",
            " number if test samples: 147\n"
          ],
          "name": "stdout"
        }
      ]
    },
    {
      "cell_type": "code",
      "metadata": {
        "id": "m2M4bhGWd8cr"
      },
      "source": [
        "class LFWDataset(torch.utils.data.Dataset):\r\n",
        "\r\n",
        "  def __init__(self, class_images_dict, transform=None):\r\n",
        "    self.transform = transform\r\n",
        "    self.class_images_dict = class_images_dict\r\n",
        "    self.list_of_tuples = self.get_list_of_tuples(self.class_images_dict)\r\n",
        "\r\n",
        "  # serve dopo per il getitem\r\n",
        "  def get_list_of_tuples(self, class_images_dict):\r\n",
        "    list_of_tuples = [(k, v) for k, v in class_images_dict.items()] \r\n",
        "    return list_of_tuples\r\n",
        "    \r\n",
        "  def __len__(self):\r\n",
        "    return len(self.list_of_tuples)\r\n",
        "\r\n",
        "  def __getitem__(self, index):\r\n",
        "    img_path, label = self.list_of_tuples[index]\r\n",
        "    img = PIL.Image.open(img_path)\r\n",
        "\r\n",
        "    if self.transform:\r\n",
        "      img = self.transform(img)\r\n",
        "\r\n",
        "    return img, label"
      ],
      "execution_count": null,
      "outputs": []
    },
    {
      "cell_type": "code",
      "metadata": {
        "id": "3EXe3K7Md8aU",
        "colab": {
          "base_uri": "https://localhost:8080/"
        },
        "outputId": "1565cf49-cf38-45af-9515-0c491ee192ed"
      },
      "source": [
        "# get datasets\r\n",
        "train_dataset = LFWDataset(train_items, transform=train_transform)\r\n",
        "test_dataset = LFWDataset(test_items, transform=test_transform)\r\n",
        "val_dataset = LFWDataset(val_items, transform=train_transform)\r\n",
        "\r\n",
        "num_train = len(train_dataset)\r\n",
        "num_test = len(test_dataset)\r\n",
        "num_val = len(val_dataset)\r\n",
        "\r\n",
        "print(f\"Num. training samples: {num_train}\")\r\n",
        "print(f\"Num. test samples: {num_test}\")\r\n",
        "print(f\"Num. val samples: {num_val}\")"
      ],
      "execution_count": null,
      "outputs": [
        {
          "output_type": "stream",
          "text": [
            "Num. training samples: 953\n",
            "Num. test samples: 147\n",
            "Num. val samples: 168\n"
          ],
          "name": "stdout"
        }
      ]
    },
    {
      "cell_type": "code",
      "metadata": {
        "id": "GFOCjIKKd8YA"
      },
      "source": [
        "train_loader = DataLoader(train_dataset, batch_size=batch_size, num_workers=4, shuffle=False)\r\n",
        "test_loader = DataLoader(test_dataset, batch_size=batch_size, num_workers=4, shuffle=False)\r\n",
        "val_loader = DataLoader(val_dataset, batch_size=batch_size, num_workers=4, shuffle=False)\r\n",
        "\r\n",
        "# Define dictionary of loaders\r\n",
        "loaders = {\"train\": train_loader,\r\n",
        "           \"val\": val_loader,\r\n",
        "           \"test\": test_loader}"
      ],
      "execution_count": null,
      "outputs": []
    },
    {
      "cell_type": "markdown",
      "metadata": {
        "id": "w9bKKxAyoufh"
      },
      "source": [
        "## Triplet loss definition"
      ]
    },
    {
      "cell_type": "code",
      "metadata": {
        "id": "nhq2Gmb5oaIk"
      },
      "source": [
        "class TripletLoss(nn.Module):\r\n",
        "    def __init__(self, margin=1.0):\r\n",
        "        super(TripletLoss, self).__init__()\r\n",
        "        self.margin = margin\r\n",
        "\r\n",
        "    \r\n",
        "    def forward(self, anchor, positive, negative):\r\n",
        "        #pos_dist = calc_euclidean(anchor, positive)\r\n",
        "        #neg_dist = calc_euclidean(anchor, negative)\r\n",
        "        pos_dist = torch.dist(anchor, positive)\r\n",
        "        neg_dist = torch.dist(anchor, negative)\r\n",
        "        loss = torch.relu(pos_dist - neg_dist + self.margin)\r\n",
        "\r\n",
        "        return loss"
      ],
      "execution_count": null,
      "outputs": []
    },
    {
      "cell_type": "code",
      "metadata": {
        "id": "h6f8n57HJSj5"
      },
      "source": [
        "# get negative list - ricavo una lista di possibili negativi data la label della anchor\r\n",
        "def get_negative_list(split, label):\r\n",
        "\r\n",
        "  # in base alla split che considero, vado a prendere i negativi dal relativo dataset\r\n",
        "  if split == 'train':\r\n",
        "    class_images_dict = train_items\r\n",
        "  elif split == 'val':\r\n",
        "    class_images_dict = val_items\r\n",
        "  else:\r\n",
        "    class_images_dict = test_items\r\n",
        "\r\n",
        "  # lista delle labels del dataset\r\n",
        "  dataset_labels = list(class_images_dict.values())\r\n",
        "  # instanzio la lista dei negativi \r\n",
        "  negative_list = []\r\n",
        "\r\n",
        "  # prendo 10 negativi random dal dataset a seconda della label passata\r\n",
        "  for _ in range(10):\r\n",
        "    idx = random.randrange(len(dataset_labels)) # prendo un negativo random\r\n",
        "    while label == dataset_labels[idx]: # se la label del negativo è uguale a quella passata...\r\n",
        "      idx = random.randrange(len(dataset_labels)) # ... ripeto \r\n",
        "    negative_list.append(idx)\r\n",
        "\r\n",
        "  return negative_list    # ritorno la lista di negativi per quella label\r\n"
      ],
      "execution_count": null,
      "outputs": []
    },
    {
      "cell_type": "code",
      "metadata": {
        "id": "Vt_xjprKneDm"
      },
      "source": [
        "# funzione per ricavare l'hardest negative data la label dell'anchor e la relativa lista dei negativi \r\n",
        "def get_hard_neg(split, anchor_out, negative_list, label, model, device):\r\n",
        "\r\n",
        "  # a seconda dello split considerato scelgo il dataset opportuno\r\n",
        "  if split == 'train':\r\n",
        "    dataset = train_dataset\r\n",
        "  elif split == 'val':\r\n",
        "    dataset = val_dataset\r\n",
        "  else:\r\n",
        "    dataset = test_dataset\r\n",
        "\r\n",
        "  # processo i negativi della lista\r\n",
        "  # e calcolo le distanze rispetto all'anchor selezionato\r\n",
        "  negative_distances = {}\r\n",
        "  for idx in negative_list:\r\n",
        "    # recupero dal dataset scelto il negativo corrispondente all'indice nella lista\r\n",
        "    negative = dataset[idx][0].to(device)\r\n",
        "    # passo il negativo nel modello\r\n",
        "    negative_embed = model(negative.unsqueeze(0)).to(device)\r\n",
        "    # calcolo la distanza con l'anchor\r\n",
        "    distance = torch.dist(negative_embed, anchor_out).item()\r\n",
        "    negative_distances[distance] = idx\r\n",
        "\r\n",
        "  # ricavo ora i 5 hardest negative\r\n",
        "  list_of_hard_negatives = []\r\n",
        "  for _ in range(5):\r\n",
        "    hardest_dist = min(list(negative_distances.keys()))\r\n",
        "    hardest_negative = negative_distances[hardest_dist]\r\n",
        "    list_of_hard_negatives.append(hardest_negative)\r\n",
        "    # elimino la distanza appena utilizzata e ripeto\r\n",
        "    del negative_distances[hardest_dist]\r\n",
        "\r\n",
        "  # dei negativi hard trovati ne prendo uno random\r\n",
        "  hard_negative_idx = random.choice(list_of_hard_negatives)\r\n",
        "  # tramite l'idx recupero l'immagine dal dataset (non processata dal model)\r\n",
        "  hard_negative = dataset[hard_negative_idx][0]\r\n",
        "  return hard_negative"
      ],
      "execution_count": null,
      "outputs": []
    },
    {
      "cell_type": "code",
      "metadata": {
        "id": "j9NYOYMqVq4w"
      },
      "source": [
        "# get positive list - ricavo una lista di possibili positivi data la label della anchor\r\n",
        "# analogo a quanto fatto per i negativi\r\n",
        "def get_positive_list(split, label, anchor_index):\r\n",
        "\r\n",
        "  # in base alla split che considero, vado a prendere i positivi dal relativo dataset\r\n",
        "  if split == 'train':\r\n",
        "    class_images_dict = train_items\r\n",
        "  elif split == 'val':\r\n",
        "    class_images_dict = val_items\r\n",
        "  else:\r\n",
        "    class_images_dict = test_items\r\n",
        "\r\n",
        "  # lista delle labels del dataset\r\n",
        "  dataset_labels = list(class_images_dict.values())\r\n",
        "  # instanzio la lista dei positivi \r\n",
        "  positive_list = []\r\n",
        "  # per ogni elemento nella lista di labels del dataset...\r\n",
        "  for idx in range(len(dataset_labels)):\r\n",
        "    if label == dataset_labels[idx] and anchor_index != idx: # ...verifico che la label sia la stessa ma che l'immagine sia diversa\r\n",
        "      positive_list.append(idx)\r\n",
        "\r\n",
        "  return positive_list    # ritorno la lista di positivi per quella label\r\n"
      ],
      "execution_count": null,
      "outputs": []
    },
    {
      "cell_type": "code",
      "metadata": {
        "id": "Zryecms1rook"
      },
      "source": [
        "# funzione per ricavare l'hardest positive data label e anchor\r\n",
        "# analogo a quanto fatto per i negativi\r\n",
        "def get_hard_pos(split, anchor_out, positive_list, label, model, device):\r\n",
        "\r\n",
        "  if split == 'train':\r\n",
        "    dataset = train_dataset\r\n",
        "  elif split == 'val':\r\n",
        "    dataset = val_dataset\r\n",
        "  else:\r\n",
        "    dataset = test_dataset\r\n",
        "\r\n",
        "  # processo i positivi della lista\r\n",
        "  # e calcolo le distanze rispetto all'anchor selezionato\r\n",
        "  positive_distances = {}\r\n",
        "  for idx in positive_list:\r\n",
        "    positive = dataset[idx][0].to(device)\r\n",
        "    #print(positive)\r\n",
        "    positive_embed = model(positive.unsqueeze(0)).to(device)\r\n",
        "    distance = torch.dist(positive_embed, anchor_out).item()\r\n",
        "    #print(distance)\r\n",
        "    positive_distances[distance] = idx\r\n",
        "\r\n",
        "  #print(positive_distances)\r\n",
        "  hard_dist = max(list(positive_distances.keys()))\r\n",
        "  hard_positive_idx = positive_distances[hard_dist]\r\n",
        "  hard_positive = dataset[hard_positive_idx][0]\r\n",
        "\r\n",
        "  return hard_positive"
      ],
      "execution_count": null,
      "outputs": []
    },
    {
      "cell_type": "markdown",
      "metadata": {
        "id": "2DKOfj8io0qx"
      },
      "source": [
        "## Resnet-34"
      ]
    },
    {
      "cell_type": "code",
      "metadata": {
        "id": "C5Xm0StRoaDb"
      },
      "source": [
        "# download di resnet34\r\n",
        "model = models.resnet34(pretrained=False)\r\n",
        "model = model.to(device)"
      ],
      "execution_count": null,
      "outputs": []
    },
    {
      "cell_type": "markdown",
      "metadata": {
        "id": "TJiSS5Tyo3hB"
      },
      "source": [
        "## Train loop"
      ]
    },
    {
      "cell_type": "code",
      "metadata": {
        "id": "oung6QqfdY0L",
        "colab": {
          "base_uri": "https://localhost:8080/",
          "height": 1000
        },
        "outputId": "25f1bea1-c688-4202-cd26-836d06f35937"
      },
      "source": [
        "# device = dev\r\n",
        "lr = 0.0001\r\n",
        "epochs = 30\r\n",
        "\r\n",
        "#optimizer = optim.SGD(model.parameters(), lr=lr, momentum=0.9, weight_decay=0.0001)\r\n",
        "optimizer = optim.Adam(model.parameters(), lr=lr, weight_decay=0.0001)\r\n",
        "triplet_loss = TripletLoss(margin=0.2)\r\n",
        "\r\n",
        "# initialize loss and accuracy values\r\n",
        "history_loss = {\"train\": [], \"val\": [], \"test\": []}\r\n",
        "history_accuracy = {\"train\": [], \"val\": [], \"test\": []}\r\n",
        "best_val_accuracy = 0\r\n",
        "test_accuracy_at_best_val = 0\r\n",
        "\r\n",
        "try:\r\n",
        "\r\n",
        "  for epoch in range(epochs):\r\n",
        "    sum_loss = {\"train\": 0, \"val\": 0, \"test\": 0}\r\n",
        "    loss_count = {\"train\": 0, \"val\": 0, \"test\": 0}\r\n",
        "    sum_accuracy = {\"train\": 0, \"val\": 0, \"test\": 0}\r\n",
        "    accuracy_count = {\"train\": 0, \"val\": 0, \"test\": 0}\r\n",
        "\r\n",
        "    for split in [\"train\", \"val\", \"test\"]:\r\n",
        "      if split == 'train':\r\n",
        "        model = model.train()\r\n",
        "        torch.set_grad_enabled(True)\r\n",
        "\r\n",
        "      else:\r\n",
        "        model.eval()\r\n",
        "        torch.set_grad_enabled(False)\r\n",
        "\r\n",
        "      for i,(images, labels) in enumerate(loaders[split]):\r\n",
        "\r\n",
        "        # take a random anchor\r\n",
        "        images = images.tolist()\r\n",
        "        labels = labels.tolist()\r\n",
        "        \r\n",
        "        positive_list = []\r\n",
        "        negative_list = []\r\n",
        "        # print(type(images))\r\n",
        "        # può verificarsi il caso in cui non vi siano positivi nel dataset poiché\r\n",
        "        # i samples sono stati divisi dopo uno shuffle, quindi verifico che la \r\n",
        "        # postive list contenga dei valori, altrimenti ripeto la25 scelta random\r\n",
        "        while not positive_list:\r\n",
        "          anchor = random.choice(images)\r\n",
        "          batch_index = images.index(anchor)\r\n",
        "          #print(batch_index)\r\n",
        "          label = labels[batch_index]\r\n",
        "          anchor = torch.Tensor(anchor).to(device)\r\n",
        "\r\n",
        "          # take the dataset index of the anchor\r\n",
        "          past_elements = i*len(images)\r\n",
        "          anchor_index = past_elements + batch_index\r\n",
        "          \r\n",
        "          # get positives and negatives lists\r\n",
        "          positive_list = get_positive_list(split, label, anchor_index)\r\n",
        "\r\n",
        "        negative_list = get_negative_list(split, label)\r\n",
        "\r\n",
        "        # get hardest_negative and hardest_positive\r\n",
        "        #print(anchor)\r\n",
        "        anchor_out = model(anchor.unsqueeze(0)).to(device)\r\n",
        "        positive = get_hard_pos(split, anchor_out, positive_list, label, model, device).to(device)\r\n",
        "        negative = get_hard_neg(split, anchor_out, negative_list, label, model, device).to(device)\r\n",
        "\r\n",
        "        # Compute output\r\n",
        "        positive_out = model(positive.unsqueeze(0)).to(device)\r\n",
        "        negative_out = model(negative.unsqueeze(0)).to(device)\r\n",
        "\r\n",
        "        # Compute Loss\r\n",
        "        loss = triplet_loss(anchor_out, positive_out, negative_out)\r\n",
        "        # Update loss\r\n",
        "        sum_loss[split] += loss.item()\r\n",
        "        loss_count[split] += 1\r\n",
        "\r\n",
        "        # Compute accuracy \r\n",
        "        pred_label = anchor_out.argmax(1)\r\n",
        "        '''\r\n",
        "        print(f\"pred label: {pred_label}\")\r\n",
        "        print(f\"correct label: {label}\")\r\n",
        "        print(type(pred_label))\r\n",
        "        '''\r\n",
        "        # print(pred_labels)\r\n",
        "        correct = pred_label.eq(label).sum().item()\r\n",
        "        #if pred_label == label:\r\n",
        "        #  correct[split] += 1\r\n",
        "        # print(correct)\r\n",
        "        #batch_accuracy = correct/anchor.size(0)\r\n",
        "        #sum_accuracy[split] += batch_accuracy\r\n",
        "        sum_accuracy[split] += correct\r\n",
        "        accuracy_count[split] += 1\r\n",
        "\r\n",
        "        if split == 'train':\r\n",
        "          optimizer.zero_grad()\r\n",
        "          loss.backward()\r\n",
        "          optimizer.step()\r\n",
        "\r\n",
        "    # Compute epoch loss\r\n",
        "    epoch_loss = {split: sum_loss[split]/loss_count[split] for split in [\"train\", \"val\", \"test\"]}\r\n",
        "    epoch_accuracy = {split: sum_accuracy[split]/accuracy_count[split] for split in [\"train\", \"val\", \"test\"]}\r\n",
        "    #epoch_accuracy = {split: correct[split]/accuracy_count[split] for split in [\"train\", \"val\", \"test\"]}\r\n",
        "    # Update history\r\n",
        "    for split in [\"train\", \"val\", \"test\"]:\r\n",
        "      history_loss[split].append(epoch_loss[split])\r\n",
        "      history_accuracy[split].append(epoch_accuracy[split])\r\n",
        "\r\n",
        "    # Print info\r\n",
        "    print(\"----------------------------------------------------------------------\")\r\n",
        "    print(f\"Epoch {epoch+1}:\",\r\n",
        "          f\"TrL={epoch_loss['train']:.4f},\",\r\n",
        "          f\"TrA={epoch_accuracy['train']:.4f},\",\r\n",
        "          f\"VL={epoch_loss['val']:.4f},\",\r\n",
        "          f\"VA={epoch_accuracy['val']:.4f},\",\r\n",
        "          f\"TeL={epoch_loss['test']:.4f},\",\r\n",
        "          f\"TeA={epoch_accuracy['test']:.4f},\")\r\n",
        "    print(\"----------------------------------------------------------------------\")\r\n",
        "\r\n",
        "    if epoch_accuracy['val'] > best_val_accuracy:\r\n",
        "      best_val_accuracy = epoch_accuracy['val']\r\n",
        "      test_accuracy_at_best_val = epoch_accuracy['test']\r\n",
        "\r\n",
        "except KeyboardInterrupt:\r\n",
        "    print(\"Interrupted\")\r\n",
        "finally:\r\n",
        "    print(f\"Final val accuracy: {best_val_accuracy:.4f}\")\r\n",
        "    print(f\"Final test accuracy: {test_accuracy_at_best_val:.4f}\")\r\n",
        "    # Plot loss\r\n",
        "    plt.title(\"Loss\")\r\n",
        "    for split in [\"train\", \"val\", \"test\"]:\r\n",
        "      plt.plot(history_loss[split], label=split)\r\n",
        "    plt.legend()\r\n",
        "    plt.show()\r\n",
        "    # Plot accuracy\r\n",
        "    plt.title(\"Accuracy\")\r\n",
        "    for split in [\"train\", \"val\", \"test\"]:\r\n",
        "      plt.plot(history_accuracy[split], label=split)\r\n",
        "    plt.legend()\r\n",
        "    plt.show()"
      ],
      "execution_count": null,
      "outputs": [
        {
          "output_type": "stream",
          "text": [
            "----------------------------------------------------------------------\n",
            "Epoch 1: TrL=0.2270, TrA=0.0000, VL=5.5862, VA=0.0000, TeL=6.3306, TeA=0.0333,\n",
            "----------------------------------------------------------------------\n",
            "----------------------------------------------------------------------\n",
            "Epoch 2: TrL=0.2182, TrA=0.0000, VL=7.1824, VA=0.0000, TeL=4.8018, TeA=0.0000,\n",
            "----------------------------------------------------------------------\n",
            "----------------------------------------------------------------------\n",
            "Epoch 3: TrL=0.2270, TrA=0.0052, VL=7.9636, VA=0.0000, TeL=5.5550, TeA=0.0000,\n",
            "----------------------------------------------------------------------\n",
            "----------------------------------------------------------------------\n",
            "Epoch 4: TrL=0.2111, TrA=0.0000, VL=4.1733, VA=0.0000, TeL=2.4958, TeA=0.0000,\n",
            "----------------------------------------------------------------------\n",
            "----------------------------------------------------------------------\n",
            "Epoch 5: TrL=0.2281, TrA=0.0000, VL=3.7935, VA=0.0000, TeL=0.7936, TeA=0.0000,\n",
            "----------------------------------------------------------------------\n",
            "----------------------------------------------------------------------\n",
            "Epoch 6: TrL=0.2220, TrA=0.0000, VL=1.6018, VA=0.0000, TeL=0.6594, TeA=0.0000,\n",
            "----------------------------------------------------------------------\n",
            "----------------------------------------------------------------------\n",
            "Epoch 7: TrL=0.2104, TrA=0.0105, VL=2.8691, VA=0.0000, TeL=1.5598, TeA=0.0000,\n",
            "----------------------------------------------------------------------\n",
            "----------------------------------------------------------------------\n",
            "Epoch 8: TrL=0.2115, TrA=0.0000, VL=2.9686, VA=0.0000, TeL=1.8248, TeA=0.0000,\n",
            "----------------------------------------------------------------------\n",
            "----------------------------------------------------------------------\n",
            "Epoch 9: TrL=0.2238, TrA=0.0000, VL=1.9354, VA=0.0000, TeL=2.7051, TeA=0.0000,\n",
            "----------------------------------------------------------------------\n",
            "----------------------------------------------------------------------\n",
            "Epoch 10: TrL=0.2125, TrA=0.0000, VL=1.2395, VA=0.0000, TeL=0.9838, TeA=0.0000,\n",
            "----------------------------------------------------------------------\n",
            "----------------------------------------------------------------------\n",
            "Epoch 11: TrL=0.2074, TrA=0.0000, VL=0.9407, VA=0.0000, TeL=1.0192, TeA=0.0000,\n",
            "----------------------------------------------------------------------\n",
            "----------------------------------------------------------------------\n",
            "Epoch 12: TrL=0.2016, TrA=0.0000, VL=0.5098, VA=0.0000, TeL=1.1194, TeA=0.0000,\n",
            "----------------------------------------------------------------------\n",
            "----------------------------------------------------------------------\n",
            "Epoch 13: TrL=0.2146, TrA=0.0000, VL=0.6228, VA=0.0000, TeL=1.0165, TeA=0.0000,\n",
            "----------------------------------------------------------------------\n",
            "----------------------------------------------------------------------\n",
            "Epoch 14: TrL=0.2057, TrA=0.0000, VL=2.7372, VA=0.0000, TeL=1.6130, TeA=0.0000,\n",
            "----------------------------------------------------------------------\n",
            "----------------------------------------------------------------------\n",
            "Epoch 15: TrL=0.2216, TrA=0.0052, VL=0.8978, VA=0.0000, TeL=0.7557, TeA=0.0000,\n",
            "----------------------------------------------------------------------\n",
            "----------------------------------------------------------------------\n",
            "Epoch 16: TrL=0.2074, TrA=0.0000, VL=0.7472, VA=0.0000, TeL=0.7021, TeA=0.0000,\n",
            "----------------------------------------------------------------------\n",
            "----------------------------------------------------------------------\n",
            "Epoch 17: TrL=0.1978, TrA=0.0000, VL=0.5249, VA=0.0000, TeL=0.8291, TeA=0.0000,\n",
            "----------------------------------------------------------------------\n",
            "----------------------------------------------------------------------\n",
            "Epoch 18: TrL=0.2108, TrA=0.0000, VL=0.9055, VA=0.0000, TeL=0.6083, TeA=0.0000,\n",
            "----------------------------------------------------------------------\n",
            "----------------------------------------------------------------------\n",
            "Epoch 19: TrL=0.2213, TrA=0.0000, VL=1.1102, VA=0.0000, TeL=0.7776, TeA=0.0000,\n",
            "----------------------------------------------------------------------\n",
            "----------------------------------------------------------------------\n",
            "Epoch 20: TrL=0.2125, TrA=0.0000, VL=0.7894, VA=0.0000, TeL=1.0145, TeA=0.0000,\n",
            "----------------------------------------------------------------------\n",
            "----------------------------------------------------------------------\n",
            "Epoch 21: TrL=0.2064, TrA=0.0000, VL=0.6486, VA=0.0000, TeL=0.7178, TeA=0.0000,\n",
            "----------------------------------------------------------------------\n",
            "----------------------------------------------------------------------\n",
            "Epoch 22: TrL=0.2097, TrA=0.0000, VL=0.8275, VA=0.0000, TeL=0.6863, TeA=0.0000,\n",
            "----------------------------------------------------------------------\n",
            "----------------------------------------------------------------------\n",
            "Epoch 23: TrL=0.2067, TrA=0.0000, VL=0.6858, VA=0.0000, TeL=0.6394, TeA=0.0000,\n",
            "----------------------------------------------------------------------\n",
            "----------------------------------------------------------------------\n",
            "Epoch 24: TrL=0.2001, TrA=0.0000, VL=0.5383, VA=0.0000, TeL=0.9161, TeA=0.0000,\n",
            "----------------------------------------------------------------------\n",
            "----------------------------------------------------------------------\n",
            "Epoch 25: TrL=0.2131, TrA=0.0000, VL=1.3523, VA=0.0000, TeL=0.7998, TeA=0.0000,\n",
            "----------------------------------------------------------------------\n",
            "----------------------------------------------------------------------\n",
            "Epoch 26: TrL=0.2150, TrA=0.0000, VL=0.5208, VA=0.0000, TeL=0.6042, TeA=0.0000,\n",
            "----------------------------------------------------------------------\n",
            "----------------------------------------------------------------------\n",
            "Epoch 27: TrL=0.2066, TrA=0.0000, VL=0.8111, VA=0.0000, TeL=0.6483, TeA=0.0000,\n",
            "----------------------------------------------------------------------\n",
            "----------------------------------------------------------------------\n",
            "Epoch 28: TrL=0.2095, TrA=0.0000, VL=0.5013, VA=0.0000, TeL=0.8565, TeA=0.0000,\n",
            "----------------------------------------------------------------------\n",
            "----------------------------------------------------------------------\n",
            "Epoch 29: TrL=0.2079, TrA=0.0000, VL=0.4937, VA=0.0000, TeL=0.7785, TeA=0.0000,\n",
            "----------------------------------------------------------------------\n",
            "----------------------------------------------------------------------\n",
            "Epoch 30: TrL=0.2105, TrA=0.0000, VL=0.3813, VA=0.0000, TeL=0.5806, TeA=0.0000,\n",
            "----------------------------------------------------------------------\n",
            "Final val accuracy: 0.0000\n",
            "Final test accuracy: 0.0000\n"
          ],
          "name": "stdout"
        },
        {
          "output_type": "display_data",
          "data": {
            "image/png": "[encoded data removed]",
            "text/plain": [
              "<Figure size 432x288 with 1 Axes>"
            ]
          },
          "metadata": {
            "tags": [],
            "needs_background": "light"
          }
        },
        {
          "output_type": "display_data",
          "data": {
            "image/png": "[encoded data removed]",
            "text/plain": [
              "<Figure size 432x288 with 1 Axes>"
            ]
          },
          "metadata": {
            "tags": [],
            "needs_background": "light"
          }
        }
      ]
    }
  ]
}