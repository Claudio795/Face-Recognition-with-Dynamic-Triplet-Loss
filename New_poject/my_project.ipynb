{
  "nbformat": 4,
  "nbformat_minor": 0,
  "metadata": {
    "colab": {
      "name": "Un nuovo inizio.ipynb",
      "provenance": [],
      "collapsed_sections": []
    },
    "kernelspec": {
      "name": "python3",
      "display_name": "Python 3"
    },
    "language_info": {
      "name": "python"
    },
    "accelerator": "GPU"
  },
  "cells": [
    {
      "cell_type": "markdown",
      "metadata": {
        "id": "wRY5b7G2RTPD"
      },
      "source": [
        "# E proviamoci dai!\n"
      ]
    },
    {
      "cell_type": "code",
      "metadata": {
        "colab": {
          "base_uri": "https://localhost:8080/"
        },
        "id": "NXPXqSb3VgoX",
        "outputId": "cea4a00f-5f23-45c9-b4d5-d9c7dcba5643"
      },
      "source": [
        "pip install facenet-pytorch"
      ],
      "execution_count": 25,
      "outputs": [
        {
          "output_type": "stream",
          "text": [
            "Requirement already satisfied: facenet-pytorch in /usr/local/lib/python3.7/dist-packages (2.5.2)\n",
            "Requirement already satisfied: numpy in /usr/local/lib/python3.7/dist-packages (from facenet-pytorch) (1.19.5)\n",
            "Requirement already satisfied: pillow in /usr/local/lib/python3.7/dist-packages (from facenet-pytorch) (7.1.2)\n",
            "Requirement already satisfied: torchvision in /usr/local/lib/python3.7/dist-packages (from facenet-pytorch) (0.9.1+cu101)\n",
            "Requirement already satisfied: requests in /usr/local/lib/python3.7/dist-packages (from facenet-pytorch) (2.23.0)\n",
            "Requirement already satisfied: torch==1.8.1 in /usr/local/lib/python3.7/dist-packages (from torchvision->facenet-pytorch) (1.8.1+cu101)\n",
            "Requirement already satisfied: urllib3!=1.25.0,!=1.25.1,<1.26,>=1.21.1 in /usr/local/lib/python3.7/dist-packages (from requests->facenet-pytorch) (1.24.3)\n",
            "Requirement already satisfied: chardet<4,>=3.0.2 in /usr/local/lib/python3.7/dist-packages (from requests->facenet-pytorch) (3.0.4)\n",
            "Requirement already satisfied: certifi>=2017.4.17 in /usr/local/lib/python3.7/dist-packages (from requests->facenet-pytorch) (2020.12.5)\n",
            "Requirement already satisfied: idna<3,>=2.5 in /usr/local/lib/python3.7/dist-packages (from requests->facenet-pytorch) (2.10)\n",
            "Requirement already satisfied: typing-extensions in /usr/local/lib/python3.7/dist-packages (from torch==1.8.1->torchvision->facenet-pytorch) (3.7.4.3)\n"
          ],
          "name": "stdout"
        }
      ]
    },
    {
      "cell_type": "code",
      "metadata": {
        "id": "C3kyGI_gRSry"
      },
      "source": [
        "import torch\n",
        "from matplotlib import pyplot as plt\n",
        "from torchvision import datasets, models\n",
        "import torchvision.transforms.functional as TF\n",
        "import torchvision.transforms as T\n",
        "import numpy as np\n",
        "import collections\n",
        "import PIL.Image\n",
        "from torch.utils.data import DataLoader, Subset\n",
        "import os\n",
        "import random\n",
        "from google.colab import drive\n",
        "import torch.nn as nn\n",
        "import torch.nn.functional as F\n",
        "import torch.optim as optim\n",
        "import glob\n",
        "import shutil\n",
        "from facenet_pytorch import MTCNN\n",
        "# from pathlib import Path"
      ],
      "execution_count": 26,
      "outputs": []
    },
    {
      "cell_type": "code",
      "metadata": {
        "id": "_0w__2zcRNGF",
        "colab": {
          "base_uri": "https://localhost:8080/"
        },
        "outputId": "0251b819-1ef5-4342-8e78-bee0a35f04c0"
      },
      "source": [
        "device = torch.device('cuda' if torch.cuda.is_available() else 'cpu')\n",
        "print(device)"
      ],
      "execution_count": 27,
      "outputs": [
        {
          "output_type": "stream",
          "text": [
            "cuda\n"
          ],
          "name": "stdout"
        }
      ]
    },
    {
      "cell_type": "code",
      "metadata": {
        "id": "NKotQcSxRd2I",
        "colab": {
          "base_uri": "https://localhost:8080/"
        },
        "outputId": "45d4d7d8-cb76-4c41-ab64-5a636e746486"
      },
      "source": [
        "drive.mount(\"/content/drive\")\n",
        "root_dir = \"/content/drive/My Drive/IA_Project\"\n",
        "data_path = os.path.join(root_dir, \"LFW_DIR\")"
      ],
      "execution_count": 28,
      "outputs": [
        {
          "output_type": "stream",
          "text": [
            "Drive already mounted at /content/drive; to attempt to forcibly remount, call drive.mount(\"/content/drive\", force_remount=True).\n"
          ],
          "name": "stdout"
        }
      ]
    },
    {
      "cell_type": "code",
      "metadata": {
        "id": "4t3_soFwCUXw"
      },
      "source": [
        "# iperparametri\n",
        "img_size = 224\n",
        "crop_size = 128\n",
        "batch_size = 130"
      ],
      "execution_count": 29,
      "outputs": []
    },
    {
      "cell_type": "code",
      "metadata": {
        "id": "zC4pKQdeCUOA"
      },
      "source": [
        "# image transformation\n",
        "\n",
        "norm_mean = (0.485, 0.456, 0.406)\n",
        "norm_std = (0.229, 0.224, 0.225)\n",
        "#norm_mean = (0.5, 0.5, 0.5)\n",
        "#norm_std = (0.5, 0.5, 0.5)\n",
        "\n",
        "test_transform = T.Compose([\n",
        "    T.Resize(img_size),\n",
        "    T.CenterCrop(crop_size),\n",
        "    T.ToTensor(),\n",
        "    T.Normalize(norm_mean, norm_std),\n",
        "])\n",
        "\n",
        "train_transform = T.Compose([\n",
        "    T.Resize(img_size),\n",
        "    T.RandomCrop(crop_size),\n",
        "    T.RandomHorizontalFlip(),\n",
        "    T.ToTensor(),\n",
        "    T.Normalize(norm_mean, norm_std),\n",
        "])"
      ],
      "execution_count": 30,
      "outputs": []
    },
    {
      "cell_type": "code",
      "metadata": {
        "id": "hyRo987YVsPl"
      },
      "source": [
        "# Funzione per bilanciare il dataset\n",
        "def balance_dataset(data_path):\n",
        "  people_paths = glob.glob(os.path.join(data_path, \"*\")) #lista dei path delle directory\n",
        "  print(len(people_paths))\n",
        "\n",
        "  #ciclo le directory contenute nella root\n",
        "  for path in people_paths:\n",
        "    directory = glob.glob(os.path.join(path, \"*\")) #lista dei path degli elementi contenuti nella directory corrente\n",
        "\n",
        "    if len(directory) < 5:\n",
        "      shutil.rmtree(path)\n",
        "    images_list = []\n",
        "    for image in directory:\n",
        "      images_list.append(image)\n",
        "    for i in range(5, len(images_list)):\n",
        "      os.remove(images_list[i]) #rimuovo le immagini in eccesso\n",
        "\n",
        "  return "
      ],
      "execution_count": 31,
      "outputs": []
    },
    {
      "cell_type": "code",
      "metadata": {
        "colab": {
          "base_uri": "https://localhost:8080/"
        },
        "id": "ReFBlyWakE9B",
        "outputId": "9886abb9-68c0-4f97-839b-b0c61c72999d"
      },
      "source": [
        "balance_dataset(data_path)"
      ],
      "execution_count": 32,
      "outputs": [
        {
          "output_type": "stream",
          "text": [
            "423\n"
          ],
          "name": "stdout"
        }
      ]
    },
    {
      "cell_type": "markdown",
      "metadata": {
        "id": "Q3YxwLB5UPVE"
      },
      "source": [
        "Serve ora dividere il dataset nei tre da utilizzare per il training, il testing e la validation"
      ]
    },
    {
      "cell_type": "code",
      "metadata": {
        "id": "4VWM0iR0KdML"
      },
      "source": [
        "# per cominciare ricavo un dizionario del tipo {label: [path immagine]}\n",
        "def get_dict(data_path):\n",
        "  people_paths = glob.glob(os.path.join(data_path, \"*\"))\n",
        "  label = 0\n",
        "  my_dict = {}\n",
        "\n",
        "  for path in people_paths:\n",
        "    directory = glob.glob(os.path.join(path, \"*\"))\n",
        "    for item in directory:\n",
        "      my_dict[item] = label\n",
        "    label += 1\n",
        "\n",
        "  return my_dict"
      ],
      "execution_count": 33,
      "outputs": []
    },
    {
      "cell_type": "code",
      "metadata": {
        "colab": {
          "base_uri": "https://localhost:8080/"
        },
        "id": "qqAoAbbPX0nj",
        "outputId": "c47ff53e-25b6-4cd7-c3df-308031890cd1"
      },
      "source": [
        "my_dict = get_dict(data_path)\n",
        "print(len(my_dict))"
      ],
      "execution_count": 34,
      "outputs": [
        {
          "output_type": "stream",
          "text": [
            "2115\n"
          ],
          "name": "stdout"
        }
      ]
    },
    {
      "cell_type": "code",
      "metadata": {
        "id": "az-CagMVKdKB"
      },
      "source": [
        "list_item = list(my_dict.items())\n",
        "random.shuffle(list_item)\n",
        "list_item_rand = dict(list_item)\n",
        "\n",
        "# Dataset fraction\n",
        "test_frac = 0.2\n",
        "val_frac = 0.2\n",
        "\n",
        "# data len\n",
        "num_data = len(my_dict)\n",
        "num_test = int(num_data*test_frac)\n",
        "num_val = int(num_data*val_frac)\n",
        "\n",
        "# split dict in train, test, val\n",
        "num_data = num_data - num_test\n",
        "test_items = dict(list(list_item_rand.items())[num_data:]) \n",
        "list_item_rand = dict(list(list_item_rand.items())[:num_data])\n",
        "\n",
        "num_data = num_data - num_val\n",
        "val_items = dict(list(list_item_rand.items())[num_data:]) \n",
        "train_items = dict(list(list_item_rand.items())[:num_data])"
      ],
      "execution_count": 35,
      "outputs": []
    },
    {
      "cell_type": "code",
      "metadata": {
        "colab": {
          "base_uri": "https://localhost:8080/"
        },
        "id": "uPxw9Y5HKdHx",
        "outputId": "20d075c8-0ca5-420e-b2ab-64ea9e343a0a"
      },
      "source": [
        "print(f\" number of train samples: {len(train_items)}\\n\",\n",
        "      f\"number of val samples: {len(val_items)}\\n\",\n",
        "      f\"number if test samples: {len(test_items)}\")"
      ],
      "execution_count": 36,
      "outputs": [
        {
          "output_type": "stream",
          "text": [
            " number of train samples: 1269\n",
            " number of val samples: 423\n",
            " number if test samples: 423\n"
          ],
          "name": "stdout"
        }
      ]
    },
    {
      "cell_type": "code",
      "metadata": {
        "id": "PyVZSDrZWztB"
      },
      "source": [
        "detector = MTCNN(select_largest=False)"
      ],
      "execution_count": 37,
      "outputs": []
    },
    {
      "cell_type": "code",
      "metadata": {
        "id": "520SBCU-ZjAL"
      },
      "source": [
        "class LFWDataset(torch.utils.data.Dataset):\n",
        "\n",
        "  def __init__(self, class_images_dict, detector, transform=None):\n",
        "    self.transform = transform\n",
        "    self.detector = detector\n",
        "    self.class_images_dict = class_images_dict\n",
        "    self.list_of_tuples = self.get_list_of_tuples(self.class_images_dict)\n",
        "\n",
        "  # serve dopo per il getitem\n",
        "  def get_list_of_tuples(self, class_images_dict):\n",
        "    list_of_tuples = [(k, v) for k, v in class_images_dict.items()] \n",
        "    return list_of_tuples\n",
        "    \n",
        "  def __len__(self):\n",
        "    return len(self.list_of_tuples)\n",
        "\n",
        "  def __getitem__(self, index):\n",
        "    img_path, label = self.list_of_tuples[index]\n",
        "    img = PIL.Image.open(img_path)\n",
        "    face = self.detector(img)\n",
        "\n",
        "    if self.transform:\n",
        "      face = self.transform(face)\n",
        "\n",
        "    return face, label"
      ],
      "execution_count": 48,
      "outputs": []
    },
    {
      "cell_type": "code",
      "metadata": {
        "colab": {
          "base_uri": "https://localhost:8080/"
        },
        "id": "vM4apUPmZi63",
        "outputId": "d854065a-936e-4824-c32a-1a05ed87af68"
      },
      "source": [
        "# get datasets\n",
        "train_dataset = LFWDataset(train_items, detector=detector, transform=train_transform)\n",
        "test_dataset = LFWDataset(test_items, detector=detector, transform=test_transform)\n",
        "val_dataset = LFWDataset(val_items, detector=detector, transform=train_transform)\n",
        "\n",
        "num_train = len(train_dataset)\n",
        "num_test = len(test_dataset)\n",
        "num_val = len(val_dataset)\n",
        "\n",
        "print(f\"Num. training samples: {num_train}\")\n",
        "print(f\"Num. test samples: {num_test}\")\n",
        "print(f\"Num. val samples: {num_val}\")"
      ],
      "execution_count": 49,
      "outputs": [
        {
          "output_type": "stream",
          "text": [
            "Num. training samples: 1269\n",
            "Num. test samples: 423\n",
            "Num. val samples: 423\n"
          ],
          "name": "stdout"
        }
      ]
    },
    {
      "cell_type": "code",
      "metadata": {
        "id": "QZGBAHXQZi0E"
      },
      "source": [
        "train_loader = DataLoader(train_dataset, batch_size=batch_size, num_workers=2, shuffle=True)\n",
        "test_loader = DataLoader(test_dataset, batch_size=batch_size, num_workers=2, shuffle=False)\n",
        "val_loader = DataLoader(val_dataset, batch_size=batch_size, num_workers=2, shuffle=False)\n",
        "\n",
        "# Define dictionary of loaders\n",
        "loaders = {\"train\": train_loader,\n",
        "           \"val\": val_loader,\n",
        "           \"test\": test_loader}"
      ],
      "execution_count": 40,
      "outputs": []
    },
    {
      "cell_type": "code",
      "metadata": {
        "id": "EC4KYN5wcppY"
      },
      "source": [
        "def _pairwise_distances(embeddings, squared=False):\n",
        "    \"\"\"Compute the 2D matrix of distances between all the embeddings.\n",
        "\n",
        "    Args:\n",
        "        embeddings: tensor of shape (batch_size, embed_dim)\n",
        "        squared: Boolean. If true, output is the pairwise squared euclidean distance matrix.\n",
        "                 If false, output is the pairwise euclidean distance matrix.\n",
        "\n",
        "    Returns:\n",
        "        pairwise_distances: tensor of shape (batch_size, batch_size)\n",
        "    \"\"\"\n",
        "    dot_product = torch.matmul(embeddings, embeddings.t())\n",
        "\n",
        "    # Get squared L2 norm for each embedding. We can just take the diagonal of `dot_product`.\n",
        "    # This also provides more numerical stability (the diagonal of the result will be exactly 0).\n",
        "    # shape (batch_size,)\n",
        "    square_norm = torch.diag(dot_product)\n",
        "\n",
        "    # Compute the pairwise distance matrix as we have:\n",
        "    # ||a - b||^2 = ||a||^2  - 2 <a, b> + ||b||^2\n",
        "    # shape (batch_size, batch_size)\n",
        "    distances = square_norm.unsqueeze(0) - 2.0 * dot_product + square_norm.unsqueeze(1)\n",
        "\n",
        "    # Because of computation errors, some distances might be negative so we put everything >= 0.0\n",
        "    distances[distances < 0] = 0\n",
        "\n",
        "    if not squared:\n",
        "        # Because the gradient of sqrt is infinite when distances == 0.0 (ex: on the diagonal)\n",
        "        # we need to add a small epsilon where distances == 0.0\n",
        "        mask = distances.eq(0).float()\n",
        "        distances = distances + mask * 1e-16\n",
        "\n",
        "        distances = (1.0 -mask) * torch.sqrt(distances)\n",
        "\n",
        "    return distances"
      ],
      "execution_count": 41,
      "outputs": []
    },
    {
      "cell_type": "code",
      "metadata": {
        "id": "99kfEAPDcplD"
      },
      "source": [
        "def _get_anchor_positive_triplet_mask(labels, device):\n",
        "    \"\"\"Return a 2D mask where mask[a, p] is True iff a and p are distinct and have same label.\n",
        "    Args:\n",
        "        labels: tf.int32 `Tensor` with shape [batch_size]\n",
        "    Returns:\n",
        "        mask: tf.bool `Tensor` with shape [batch_size, batch_size]\n",
        "    \"\"\"\n",
        "    # Check that i and j are distinct\n",
        "    indices_equal = torch.eye(labels.size(0)).bool().to(device)\n",
        "    indices_not_equal = ~indices_equal\n",
        "\n",
        "    # Check if labels[i] == labels[j]\n",
        "    # Uses broadcasting where the 1st argument has shape (1, batch_size) and the 2nd (batch_size, 1)\n",
        "    labels_equal = labels.unsqueeze(0) == labels.unsqueeze(1)\n",
        "\n",
        "    return labels_equal & indices_not_equal"
      ],
      "execution_count": 42,
      "outputs": []
    },
    {
      "cell_type": "code",
      "metadata": {
        "id": "C7j6PvITcpgk"
      },
      "source": [
        "def _get_anchor_negative_triplet_mask(labels):\n",
        "    \"\"\"Return a 2D mask where mask[a, n] is True iff a and n have distinct labels.\n",
        "    Args:\n",
        "        labels: tf.int32 `Tensor` with shape [batch_size]\n",
        "    Returns:\n",
        "        mask: tf.bool `Tensor` with shape [batch_size, batch_size]\n",
        "    \"\"\"\n",
        "    # Check if labels[i] != labels[k]\n",
        "    # Uses broadcasting where the 1st argument has shape (1, batch_size) and the 2nd (batch_size, 1)\n",
        "\n",
        "    return ~(labels.unsqueeze(0) == labels.unsqueeze(1))"
      ],
      "execution_count": 43,
      "outputs": []
    },
    {
      "cell_type": "code",
      "metadata": {
        "id": "LMxSx41fdudN"
      },
      "source": [
        "def batch_hard_triplet_loss(labels, embeddings, margin, squared=False, device='cpu'):\n",
        "    \"\"\"Build the triplet loss over a batch of embeddings.\n",
        "\n",
        "    For each anchor, we get the hardest positive and hardest negative to form a triplet.\n",
        "\n",
        "    Args:\n",
        "        labels: labels of the batch, of size (batch_size,)\n",
        "        embeddings: tensor of shape (batch_size, embed_dim)\n",
        "        margin: margin for triplet loss\n",
        "        squared: Boolean. If true, output is the pairwise squared euclidean distance matrix.\n",
        "                 If false, output is the pairwise euclidean distance matrix.\n",
        "\n",
        "    Returns:\n",
        "        triplet_loss: scalar tensor containing the triplet loss\n",
        "    \"\"\"\n",
        "    # Get the pairwise distance matrix\n",
        "    pairwise_dist = _pairwise_distances(embeddings, squared=squared)\n",
        "\n",
        "    # For each anchor, get the hardest positive\n",
        "    # First, we need to get a mask for every valid positive (they should have same label)\n",
        "    mask_anchor_positive = _get_anchor_positive_triplet_mask(labels, device).float()\n",
        "\n",
        "    # We put to 0 any element where (a, p) is not valid (valid if a != p and label(a) == label(p))\n",
        "    anchor_positive_dist = mask_anchor_positive * pairwise_dist\n",
        "\n",
        "    # shape (batch_size, 1)\n",
        "    hardest_positive_dist, _ = anchor_positive_dist.max(1, keepdim=True)\n",
        "\n",
        "    # For each anchor, get the hardest negative\n",
        "    # First, we need to get a mask for every valid negative (they should have different labels)\n",
        "    mask_anchor_negative = _get_anchor_negative_triplet_mask(labels).float()\n",
        "\n",
        "    # We add the maximum value in each row to the invalid negatives (label(a) == label(n))\n",
        "    max_anchor_negative_dist, _ = pairwise_dist.max(1, keepdim=True)\n",
        "    anchor_negative_dist = pairwise_dist + max_anchor_negative_dist * (1.0 - mask_anchor_negative)\n",
        "\n",
        "    # shape (batch_size,)\n",
        "    hardest_negative_dist, _ = anchor_negative_dist.min(1, keepdim=True)\n",
        "\n",
        "    # Combine biggest d(a, p) and smallest d(a, n) into final triplet loss\n",
        "    tl = hardest_positive_dist - hardest_negative_dist + margin\n",
        "    tl[tl < 0] = 0\n",
        "    triplet_loss = tl.mean()\n",
        "\n",
        "    return triplet_loss"
      ],
      "execution_count": 44,
      "outputs": []
    },
    {
      "cell_type": "code",
      "metadata": {
        "id": "ub6RlF8FduaS"
      },
      "source": [
        "# download di resnet34\n",
        "model = models.resnet34(pretrained=False)\n",
        "model = model.to(device)"
      ],
      "execution_count": 45,
      "outputs": []
    },
    {
      "cell_type": "code",
      "metadata": {
        "id": "6_SyZG9eduWc"
      },
      "source": [
        "def trainLoop(epochs, device, model, lr=0.001):\n",
        "\n",
        "  # model.eval()\n",
        "  model.to(device) # model è definito sopra\n",
        "\n",
        "  #optimizer = optim.Adam(model.parameters(), lr=lr)\n",
        "  optimizer = optim.SGD(model.parameters(), lr=lr, momentum=0.9, weight_decay=0.0001)\n",
        "\n",
        "  # initialize loss and accuracy values\n",
        "  history_loss = {\"train\": [], \"val\": [], \"test\": []}\n",
        "  history_accuracy = {\"train\": [], \"val\": [], \"test\": []}\n",
        "  best_val_accuracy = 0\n",
        "  test_accuracy_at_best_val = 0\n",
        "\n",
        "  try:\n",
        "\n",
        "    for epoch in range(epochs):\n",
        "      sum_loss = {\"train\": 0, \"val\": 0, \"test\": 0}\n",
        "      loss_count = {\"train\": 0, \"val\": 0, \"test\": 0}\n",
        "      sum_accuracy = {\"train\": 0, \"val\": 0, \"test\": 0}\n",
        "      accuracy_count = {\"train\": 0, \"val\": 0, \"test\": 0}\n",
        "\n",
        "      for split in [\"train\", \"val\", \"test\"]:\n",
        "        if split == 'train':\n",
        "          model.train()\n",
        "          torch.set_grad_enabled(True)\n",
        "        else:\n",
        "          model.eval()\n",
        "          torch.set_grad_enabled(False)\n",
        "        for (anchor_imgs, anchor_labels) in loaders[split]:\n",
        "          # Move to CUDA\n",
        "          anchor_imgs = anchor_imgs.to(device)\n",
        "          anchor_labels = anchor_labels.to(device)\n",
        "          \n",
        "          # Compute output\n",
        "          anchors_out = model(anchor_imgs)\n",
        "          # Compute Loss\n",
        "          loss = batch_hard_triplet_loss(anchor_labels, anchors_out, margin=0.2, device=device)\n",
        "          # Update loss\n",
        "          sum_loss[split] += loss.item()\n",
        "          loss_count[split] += 1\n",
        "          # Compute accuracy \n",
        "          pred_labels = anchors_out.argmax(1)\n",
        "          # print(pred_labels)\n",
        "          correct = pred_labels.eq(anchor_labels).sum().item()\n",
        "          # print(correct)\n",
        "          batch_accuracy = correct/anchor_imgs.size(0) # potremmo provare a mettere anchor_imgs.size(1)\n",
        "          sum_accuracy[split] += batch_accuracy\n",
        "          accuracy_count[split] += 1\n",
        "\n",
        "          if split == 'train':\n",
        "            optimizer.zero_grad()\n",
        "            loss.backward()\n",
        "            optimizer.step()\n",
        "\n",
        "\n",
        "      # Compute epoch loss\n",
        "      epoch_loss = {split: sum_loss[split]/loss_count[split] for split in [\"train\", \"val\", \"test\"]}\n",
        "      epoch_accuracy = {split: sum_accuracy[split]/accuracy_count[split] for split in [\"train\", \"val\", \"test\"]}\n",
        "      # Update history\n",
        "      for split in [\"train\", \"val\", \"test\"]:\n",
        "        history_loss[split].append(epoch_loss[split])\n",
        "        history_accuracy[split].append(epoch_accuracy[split])\n",
        "\n",
        "      # Print info\n",
        "      print(\"------------------------------------------------------------------\")\n",
        "      print(f\"Epoch {epoch+1}:\",\n",
        "            f\"TrL={epoch_loss['train']:.4f},\",\n",
        "            f\"TrA={epoch_accuracy['train']:.4f},\",\n",
        "            f\"VL={epoch_loss['val']:.4f},\",\n",
        "            f\"VA={epoch_accuracy['val']:.4f},\",\n",
        "            f\"TeL={epoch_loss['test']:.4f},\",\n",
        "            f\"TeA={epoch_accuracy['test']:.4f},\")\n",
        "      print(\"------------------------------------------------------------------\")\n",
        "\n",
        "      if epoch_accuracy['val'] > best_val_accuracy:\n",
        "        best_val_accuracy = epoch_accuracy['val']\n",
        "        test_accuracy_at_best_val = epoch_accuracy['test']\n",
        "\n",
        "  except KeyboardInterrupt:\n",
        "      print(\"Interrupted\")\n",
        "  finally:\n",
        "      print(f\"Final val accuracy: {best_val_accuracy:.4f}\")\n",
        "      print(f\"Final test accuracy: {test_accuracy_at_best_val:.4f}\")\n",
        "      # Plot loss\n",
        "      plt.title(\"Loss\")\n",
        "      for split in [\"train\", \"val\", \"test\"]:\n",
        "        plt.plot(history_loss[split], label=split)\n",
        "      plt.legend()\n",
        "      plt.show()\n",
        "      # Plot accuracy\n",
        "      plt.title(\"Accuracy\")\n",
        "      for split in [\"train\", \"val\", \"test\"]:\n",
        "        plt.plot(history_accuracy[split], label=split)\n",
        "      plt.legend()\n",
        "      plt.show()"
      ],
      "execution_count": 46,
      "outputs": []
    },
    {
      "cell_type": "code",
      "metadata": {
        "colab": {
          "base_uri": "https://localhost:8080/",
          "height": 1000
        },
        "id": "FqQYpkF_duR3",
        "outputId": "85fab025-cc7f-4230-f5b7-2192d499f55b"
      },
      "source": [
        "trainLoop(100, device, model, lr=0.0001)"
      ],
      "execution_count": 50,
      "outputs": [
        {
          "output_type": "stream",
          "text": [
            "Final val accuracy: 0.0000\n",
            "Final test accuracy: 0.0000\n"
          ],
          "name": "stdout"
        },
        {
          "output_type": "display_data",
          "data": {
            "image/png": "[encoded data removed]",
            "text/plain": [
              "<Figure size 432x288 with 1 Axes>"
            ]
          },
          "metadata": {
            "tags": [],
            "needs_background": "light"
          }
        },
        {
          "output_type": "display_data",
          "data": {
            "image/png": "[encoded data removed]",
            "text/plain": [
              "<Figure size 432x288 with 1 Axes>"
            ]
          },
          "metadata": {
            "tags": [],
            "needs_background": "light"
          }
        },
        {
          "output_type": "error",
          "ename": "TypeError",
          "evalue": "ignored",
          "traceback": [
            "\u001b[0;31m---------------------------------------------------------------------------\u001b[0m",
            "\u001b[0;31mTypeError\u001b[0m                                 Traceback (most recent call last)",
            "\u001b[0;32m<ipython-input-50-b599d4ced50a>\u001b[0m in \u001b[0;36m<module>\u001b[0;34m()\u001b[0m\n\u001b[0;32m----> 1\u001b[0;31m \u001b[0mtrainLoop\u001b[0m\u001b[0;34m(\u001b[0m\u001b[0;36m100\u001b[0m\u001b[0;34m,\u001b[0m \u001b[0mdevice\u001b[0m\u001b[0;34m,\u001b[0m \u001b[0mmodel\u001b[0m\u001b[0;34m,\u001b[0m \u001b[0mlr\u001b[0m\u001b[0;34m=\u001b[0m\u001b[0;36m0.0001\u001b[0m\u001b[0;34m)\u001b[0m\u001b[0;34m\u001b[0m\u001b[0;34m\u001b[0m\u001b[0m\n\u001b[0m",
            "\u001b[0;32m<ipython-input-46-b83193ae5c4b>\u001b[0m in \u001b[0;36mtrainLoop\u001b[0;34m(epochs, device, model, lr)\u001b[0m\n\u001b[1;32m     28\u001b[0m           \u001b[0mmodel\u001b[0m\u001b[0;34m.\u001b[0m\u001b[0meval\u001b[0m\u001b[0;34m(\u001b[0m\u001b[0;34m)\u001b[0m\u001b[0;34m\u001b[0m\u001b[0;34m\u001b[0m\u001b[0m\n\u001b[1;32m     29\u001b[0m           \u001b[0mtorch\u001b[0m\u001b[0;34m.\u001b[0m\u001b[0mset_grad_enabled\u001b[0m\u001b[0;34m(\u001b[0m\u001b[0;32mFalse\u001b[0m\u001b[0;34m)\u001b[0m\u001b[0;34m\u001b[0m\u001b[0;34m\u001b[0m\u001b[0m\n\u001b[0;32m---> 30\u001b[0;31m         \u001b[0;32mfor\u001b[0m \u001b[0;34m(\u001b[0m\u001b[0manchor_imgs\u001b[0m\u001b[0;34m,\u001b[0m \u001b[0manchor_labels\u001b[0m\u001b[0;34m)\u001b[0m \u001b[0;32min\u001b[0m \u001b[0mloaders\u001b[0m\u001b[0;34m[\u001b[0m\u001b[0msplit\u001b[0m\u001b[0;34m]\u001b[0m\u001b[0;34m:\u001b[0m\u001b[0;34m\u001b[0m\u001b[0;34m\u001b[0m\u001b[0m\n\u001b[0m\u001b[1;32m     31\u001b[0m           \u001b[0;31m# Move to CUDA\u001b[0m\u001b[0;34m\u001b[0m\u001b[0;34m\u001b[0m\u001b[0;34m\u001b[0m\u001b[0m\n\u001b[1;32m     32\u001b[0m           \u001b[0manchor_imgs\u001b[0m \u001b[0;34m=\u001b[0m \u001b[0manchor_imgs\u001b[0m\u001b[0;34m.\u001b[0m\u001b[0mto\u001b[0m\u001b[0;34m(\u001b[0m\u001b[0mdevice\u001b[0m\u001b[0;34m)\u001b[0m\u001b[0;34m\u001b[0m\u001b[0;34m\u001b[0m\u001b[0m\n",
            "\u001b[0;32m/usr/local/lib/python3.7/dist-packages/torch/utils/data/dataloader.py\u001b[0m in \u001b[0;36m__next__\u001b[0;34m(self)\u001b[0m\n\u001b[1;32m    515\u001b[0m             \u001b[0;32mif\u001b[0m \u001b[0mself\u001b[0m\u001b[0;34m.\u001b[0m\u001b[0m_sampler_iter\u001b[0m \u001b[0;32mis\u001b[0m \u001b[0;32mNone\u001b[0m\u001b[0;34m:\u001b[0m\u001b[0;34m\u001b[0m\u001b[0;34m\u001b[0m\u001b[0m\n\u001b[1;32m    516\u001b[0m                 \u001b[0mself\u001b[0m\u001b[0;34m.\u001b[0m\u001b[0m_reset\u001b[0m\u001b[0;34m(\u001b[0m\u001b[0;34m)\u001b[0m\u001b[0;34m\u001b[0m\u001b[0;34m\u001b[0m\u001b[0m\n\u001b[0;32m--> 517\u001b[0;31m             \u001b[0mdata\u001b[0m \u001b[0;34m=\u001b[0m \u001b[0mself\u001b[0m\u001b[0;34m.\u001b[0m\u001b[0m_next_data\u001b[0m\u001b[0;34m(\u001b[0m\u001b[0;34m)\u001b[0m\u001b[0;34m\u001b[0m\u001b[0;34m\u001b[0m\u001b[0m\n\u001b[0m\u001b[1;32m    518\u001b[0m             \u001b[0mself\u001b[0m\u001b[0;34m.\u001b[0m\u001b[0m_num_yielded\u001b[0m \u001b[0;34m+=\u001b[0m \u001b[0;36m1\u001b[0m\u001b[0;34m\u001b[0m\u001b[0;34m\u001b[0m\u001b[0m\n\u001b[1;32m    519\u001b[0m             \u001b[0;32mif\u001b[0m \u001b[0mself\u001b[0m\u001b[0;34m.\u001b[0m\u001b[0m_dataset_kind\u001b[0m \u001b[0;34m==\u001b[0m \u001b[0m_DatasetKind\u001b[0m\u001b[0;34m.\u001b[0m\u001b[0mIterable\u001b[0m \u001b[0;32mand\u001b[0m\u001b[0;31m \u001b[0m\u001b[0;31m\\\u001b[0m\u001b[0;34m\u001b[0m\u001b[0;34m\u001b[0m\u001b[0m\n",
            "\u001b[0;32m/usr/local/lib/python3.7/dist-packages/torch/utils/data/dataloader.py\u001b[0m in \u001b[0;36m_next_data\u001b[0;34m(self)\u001b[0m\n\u001b[1;32m   1197\u001b[0m             \u001b[0;32melse\u001b[0m\u001b[0;34m:\u001b[0m\u001b[0;34m\u001b[0m\u001b[0;34m\u001b[0m\u001b[0m\n\u001b[1;32m   1198\u001b[0m                 \u001b[0;32mdel\u001b[0m \u001b[0mself\u001b[0m\u001b[0;34m.\u001b[0m\u001b[0m_task_info\u001b[0m\u001b[0;34m[\u001b[0m\u001b[0midx\u001b[0m\u001b[0;34m]\u001b[0m\u001b[0;34m\u001b[0m\u001b[0;34m\u001b[0m\u001b[0m\n\u001b[0;32m-> 1199\u001b[0;31m                 \u001b[0;32mreturn\u001b[0m \u001b[0mself\u001b[0m\u001b[0;34m.\u001b[0m\u001b[0m_process_data\u001b[0m\u001b[0;34m(\u001b[0m\u001b[0mdata\u001b[0m\u001b[0;34m)\u001b[0m\u001b[0;34m\u001b[0m\u001b[0;34m\u001b[0m\u001b[0m\n\u001b[0m\u001b[1;32m   1200\u001b[0m \u001b[0;34m\u001b[0m\u001b[0m\n\u001b[1;32m   1201\u001b[0m     \u001b[0;32mdef\u001b[0m \u001b[0m_try_put_index\u001b[0m\u001b[0;34m(\u001b[0m\u001b[0mself\u001b[0m\u001b[0;34m)\u001b[0m\u001b[0;34m:\u001b[0m\u001b[0;34m\u001b[0m\u001b[0;34m\u001b[0m\u001b[0m\n",
            "\u001b[0;32m/usr/local/lib/python3.7/dist-packages/torch/utils/data/dataloader.py\u001b[0m in \u001b[0;36m_process_data\u001b[0;34m(self, data)\u001b[0m\n\u001b[1;32m   1223\u001b[0m         \u001b[0mself\u001b[0m\u001b[0;34m.\u001b[0m\u001b[0m_try_put_index\u001b[0m\u001b[0;34m(\u001b[0m\u001b[0;34m)\u001b[0m\u001b[0;34m\u001b[0m\u001b[0;34m\u001b[0m\u001b[0m\n\u001b[1;32m   1224\u001b[0m         \u001b[0;32mif\u001b[0m \u001b[0misinstance\u001b[0m\u001b[0;34m(\u001b[0m\u001b[0mdata\u001b[0m\u001b[0;34m,\u001b[0m \u001b[0mExceptionWrapper\u001b[0m\u001b[0;34m)\u001b[0m\u001b[0;34m:\u001b[0m\u001b[0;34m\u001b[0m\u001b[0;34m\u001b[0m\u001b[0m\n\u001b[0;32m-> 1225\u001b[0;31m             \u001b[0mdata\u001b[0m\u001b[0;34m.\u001b[0m\u001b[0mreraise\u001b[0m\u001b[0;34m(\u001b[0m\u001b[0;34m)\u001b[0m\u001b[0;34m\u001b[0m\u001b[0;34m\u001b[0m\u001b[0m\n\u001b[0m\u001b[1;32m   1226\u001b[0m         \u001b[0;32mreturn\u001b[0m \u001b[0mdata\u001b[0m\u001b[0;34m\u001b[0m\u001b[0;34m\u001b[0m\u001b[0m\n\u001b[1;32m   1227\u001b[0m \u001b[0;34m\u001b[0m\u001b[0m\n",
            "\u001b[0;32m/usr/local/lib/python3.7/dist-packages/torch/_utils.py\u001b[0m in \u001b[0;36mreraise\u001b[0;34m(self)\u001b[0m\n\u001b[1;32m    427\u001b[0m             \u001b[0;31m# have message field\u001b[0m\u001b[0;34m\u001b[0m\u001b[0;34m\u001b[0m\u001b[0;34m\u001b[0m\u001b[0m\n\u001b[1;32m    428\u001b[0m             \u001b[0;32mraise\u001b[0m \u001b[0mself\u001b[0m\u001b[0;34m.\u001b[0m\u001b[0mexc_type\u001b[0m\u001b[0;34m(\u001b[0m\u001b[0mmessage\u001b[0m\u001b[0;34m=\u001b[0m\u001b[0mmsg\u001b[0m\u001b[0;34m)\u001b[0m\u001b[0;34m\u001b[0m\u001b[0;34m\u001b[0m\u001b[0m\n\u001b[0;32m--> 429\u001b[0;31m         \u001b[0;32mraise\u001b[0m \u001b[0mself\u001b[0m\u001b[0;34m.\u001b[0m\u001b[0mexc_type\u001b[0m\u001b[0;34m(\u001b[0m\u001b[0mmsg\u001b[0m\u001b[0;34m)\u001b[0m\u001b[0;34m\u001b[0m\u001b[0;34m\u001b[0m\u001b[0m\n\u001b[0m\u001b[1;32m    430\u001b[0m \u001b[0;34m\u001b[0m\u001b[0m\n\u001b[1;32m    431\u001b[0m \u001b[0;34m\u001b[0m\u001b[0m\n",
            "\u001b[0;31mTypeError\u001b[0m: Caught TypeError in DataLoader worker process 0.\nOriginal Traceback (most recent call last):\n  File \"/usr/local/lib/python3.7/dist-packages/torch/utils/data/_utils/worker.py\", line 202, in _worker_loop\n    data = fetcher.fetch(index)\n  File \"/usr/local/lib/python3.7/dist-packages/torch/utils/data/_utils/fetch.py\", line 44, in fetch\n    data = [self.dataset[idx] for idx in possibly_batched_index]\n  File \"/usr/local/lib/python3.7/dist-packages/torch/utils/data/_utils/fetch.py\", line 44, in <listcomp>\n    data = [self.dataset[idx] for idx in possibly_batched_index]\n  File \"<ipython-input-38-3ffb03592e6c>\", line 23, in __getitem__\n    face = self.transform(face)\n  File \"/usr/local/lib/python3.7/dist-packages/torchvision/transforms/transforms.py\", line 60, in __call__\n    img = t(img)\n  File \"/usr/local/lib/python3.7/dist-packages/torchvision/transforms/transforms.py\", line 97, in __call__\n    return F.to_tensor(pic)\n  File \"/usr/local/lib/python3.7/dist-packages/torchvision/transforms/functional.py\", line 102, in to_tensor\n    raise TypeError('pic should be PIL Image or ndarray. Got {}'.format(type(pic)))\nTypeError: pic should be PIL Image or ndarray. Got <class 'torch.Tensor'>\n"
          ]
        }
      ]
    }
  ]
}